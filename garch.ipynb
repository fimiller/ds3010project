{
 "cells": [
  {
   "cell_type": "markdown",
   "id": "a30adae2-9b02-4f7e-a123-5c81ecdc22c8",
   "metadata": {},
   "source": [
    "# $ARIMA(p,d,q) \\, GARCH(p,q)$ modeling of the CPI\n",
    "This notebook goes through the process of constructing an autoregressive integrated moving average (ARIMA) and generalized autoregressive conditional heteroskedasticity model for the consumer price index. \n",
    "\n",
    "First, we import necessary packages."
   ]
  },
  {
   "cell_type": "code",
   "execution_count": 1,
   "id": "7c785bf6-c0f1-49ea-994b-81d6ffc9db87",
   "metadata": {},
   "outputs": [
    {
     "name": "stdout",
     "output_type": "stream",
     "text": [
      "Collecting pmdarima\n",
      "  Using cached pmdarima-2.0.2-cp38-cp38-win_amd64.whl (571 kB)\n",
      "Requirement already satisfied: pandas>=0.19 in c:\\users\\forre\\appdata\\local\\programs\\python\\python38\\lib\\site-packages (from pmdarima) (1.2.4)Note: you may need to restart the kernel to use updated packages.\n"
     ]
    },
    {
     "name": "stderr",
     "output_type": "stream",
     "text": [
      "WARNING: You are using pip version 22.0.4; however, version 23.0 is available.\n",
      "You should consider upgrading via the 'c:\\users\\forre\\appdata\\local\\programs\\python\\python38\\python.exe -m pip install --upgrade pip' command.\n"
     ]
    },
    {
     "name": "stdout",
     "output_type": "stream",
     "text": [
      "\n",
      "Requirement already satisfied: scikit-learn>=0.22 in c:\\users\\forre\\appdata\\local\\programs\\python\\python38\\lib\\site-packages (from pmdarima) (0.24.2)\n",
      "Collecting Cython!=0.29.18,!=0.29.31,>=0.29\n",
      "  Using cached Cython-0.29.33-py2.py3-none-any.whl (987 kB)\n",
      "Requirement already satisfied: joblib>=0.11 in c:\\users\\forre\\appdata\\local\\programs\\python\\python38\\lib\\site-packages (from pmdarima) (1.0.1)\n",
      "Requirement already satisfied: urllib3 in c:\\users\\forre\\appdata\\local\\programs\\python\\python38\\lib\\site-packages (from pmdarima) (1.25.8)\n",
      "Collecting statsmodels>=0.13.2\n",
      "  Using cached statsmodels-0.13.5-cp38-cp38-win_amd64.whl (9.2 MB)\n",
      "Requirement already satisfied: setuptools!=50.0.0,>=38.6.0 in c:\\users\\forre\\appdata\\local\\programs\\python\\python38\\lib\\site-packages (from pmdarima) (57.4.0)\n",
      "Requirement already satisfied: scipy>=1.3.2 in c:\\users\\forre\\appdata\\local\\programs\\python\\python38\\lib\\site-packages (from pmdarima) (1.6.3)\n",
      "Requirement already satisfied: numpy>=1.21.2 in c:\\users\\forre\\appdata\\local\\programs\\python\\python38\\lib\\site-packages (from pmdarima) (1.22.4)\n",
      "Requirement already satisfied: pytz>=2017.3 in c:\\users\\forre\\appdata\\local\\programs\\python\\python38\\lib\\site-packages (from pandas>=0.19->pmdarima) (2020.1)\n",
      "Requirement already satisfied: python-dateutil>=2.7.3 in c:\\users\\forre\\appdata\\roaming\\python\\python38\\site-packages (from pandas>=0.19->pmdarima) (2.8.1)\n",
      "Requirement already satisfied: threadpoolctl>=2.0.0 in c:\\users\\forre\\appdata\\local\\programs\\python\\python38\\lib\\site-packages (from scikit-learn>=0.22->pmdarima) (2.1.0)\n",
      "Requirement already satisfied: packaging>=21.3 in c:\\users\\forre\\appdata\\local\\programs\\python\\python38\\lib\\site-packages (from statsmodels>=0.13.2->pmdarima) (23.0)\n",
      "Collecting patsy>=0.5.2\n",
      "  Using cached patsy-0.5.3-py2.py3-none-any.whl (233 kB)\n",
      "Requirement already satisfied: six in c:\\users\\forre\\appdata\\roaming\\python\\python38\\site-packages (from patsy>=0.5.2->statsmodels>=0.13.2->pmdarima) (1.16.0)\n",
      "Installing collected packages: patsy, Cython, statsmodels, pmdarima\n",
      "  Attempting uninstall: patsy\n",
      "    Found existing installation: patsy 0.5.1\n",
      "    Uninstalling patsy-0.5.1:\n",
      "      Successfully uninstalled patsy-0.5.1\n",
      "  Attempting uninstall: statsmodels\n",
      "    Found existing installation: statsmodels 0.12.2\n",
      "    Uninstalling statsmodels-0.12.2:\n",
      "      Successfully uninstalled statsmodels-0.12.2\n",
      "Successfully installed Cython-0.29.33 patsy-0.5.3 pmdarima-2.0.2 statsmodels-0.13.5\n"
     ]
    }
   ],
   "source": [
    "%pip install pmdarima"
   ]
  },
  {
   "cell_type": "code",
   "execution_count": 4,
   "id": "93d4aeb7-26e4-4a4c-9d0e-2a2598f59472",
   "metadata": {},
   "outputs": [
    {
     "name": "stdout",
     "output_type": "stream",
     "text": [
      "Collecting arch\n",
      "  Downloading arch-5.3.1-cp38-cp38-win_amd64.whl (845 kB)\n",
      "     -------------------------------------- 845.5/845.5 KB 8.9 MB/s eta 0:00:00\n",
      "Requirement already satisfied: scipy>=1.3 in c:\\users\\forre\\appdata\\local\\programs\\python\\python38\\lib\\site-packages (from arch) (1.6.3)\n",
      "Requirement already satisfied: statsmodels>=0.11 in c:\\users\\forre\\appdata\\local\\programs\\python\\python38\\lib\\site-packages (from arch) (0.13.5)\n",
      "Requirement already satisfied: pandas>=1.0 in c:\\users\\forre\\appdata\\local\\programs\\python\\python38\\lib\\site-packages (from arch) (1.2.4)\n",
      "Collecting property-cached>=1.6.4\n",
      "  Using cached property_cached-1.6.4-py2.py3-none-any.whl (7.8 kB)\n",
      "Requirement already satisfied: numpy>=1.17 in c:\\users\\forre\\appdata\\local\\programs\\python\\python38\\lib\\site-packages (from arch) (1.22.4)\n",
      "Requirement already satisfied: python-dateutil>=2.7.3 in c:\\users\\forre\\appdata\\roaming\\python\\python38\\site-packages (from pandas>=1.0->arch) (2.8.1)\n",
      "Requirement already satisfied: pytz>=2017.3 in c:\\users\\forre\\appdata\\local\\programs\\python\\python38\\lib\\site-packages (from pandas>=1.0->arch) (2020.1)\n",
      "Requirement already satisfied: packaging>=21.3 in c:\\users\\forre\\appdata\\local\\programs\\python\\python38\\lib\\site-packages (from statsmodels>=0.11->arch) (23.0)\n",
      "Requirement already satisfied: patsy>=0.5.2 in c:\\users\\forre\\appdata\\local\\programs\\python\\python38\\lib\\site-packages (from statsmodels>=0.11->arch) (0.5.3)\n",
      "Requirement already satisfied: six in c:\\users\\forre\\appdata\\roaming\\python\\python38\\site-packages (from patsy>=0.5.2->statsmodels>=0.11->arch) (1.16.0)\n",
      "Installing collected packages: property-cached, arch\n",
      "Successfully installed arch-5.3.1 property-cached-1.6.4\n",
      "Note: you may need to restart the kernel to use updated packages.\n"
     ]
    },
    {
     "name": "stderr",
     "output_type": "stream",
     "text": [
      "WARNING: You are using pip version 22.0.4; however, version 23.0 is available.\n",
      "You should consider upgrading via the 'c:\\users\\forre\\appdata\\local\\programs\\python\\python38\\python.exe -m pip install --upgrade pip' command.\n"
     ]
    }
   ],
   "source": [
    "%pip install arch"
   ]
  },
  {
   "cell_type": "code",
   "execution_count": 69,
   "id": "bba572b4-44df-4ec4-9b91-001cd40bd09b",
   "metadata": {},
   "outputs": [],
   "source": [
    "import pmdarima\n",
    "import arch\n",
    "import pandas as pd\n",
    "import numpy as np\n",
    "import matplotlib.pyplot as plt\n",
    "import math"
   ]
  },
  {
   "cell_type": "markdown",
   "id": "dbc559b2-d81d-4f7d-836f-1f30beae26de",
   "metadata": {},
   "source": [
    "To create the ARIMA model, we will use the same parameters as before."
   ]
  },
  {
   "cell_type": "code",
   "execution_count": 30,
   "id": "5d534abd-e24a-4c10-ad4f-6e813c9ae0ac",
   "metadata": {},
   "outputs": [
    {
     "name": "stdout",
     "output_type": "stream",
     "text": [
      "original test MSE =  0.23694398905919364\n"
     ]
    }
   ],
   "source": [
    "df = pd.read_csv('ALL_DATA_Marc93.csv') # read the dataframe \n",
    "cpi = df['CPI'] # pull only the CPI\n",
    "X_train = cpi[:math.ceil(len(cpi) * .7)] # create the training set \n",
    "X_test = cpi[math.ceil(len(cpi) * .7):] # create the testing set \n",
    "arimaModel = pmdarima.ARIMA((1,1,2))\n",
    "print('original test MSE = ', np.mean((X_train - arimaModel.fit(X_train).fittedvalues()[1:]) ** 2))\n",
    "arimaModelResiduals = arimaModel.resid()[1:] # the difference of 1 requires this \n"
   ]
  },
  {
   "cell_type": "markdown",
   "id": "dd01cbc5-8905-439d-8514-a0d8d73739ca",
   "metadata": {},
   "source": [
    "Now, we will train a $GARCH(1,2)$ model, as this is the same $p$ and $q$ from the ARIMA model."
   ]
  },
  {
   "cell_type": "code",
   "execution_count": 36,
   "id": "7b861da1-cd07-4e77-8051-963faeeca3aa",
   "metadata": {},
   "outputs": [
    {
     "name": "stdout",
     "output_type": "stream",
     "text": [
      "Iteration:      1,   Func. Count:      7,   Neg. LLF: 4930.639000010183\n",
      "Iteration:      2,   Func. Count:     18,   Neg. LLF: 1171.5549227091951\n",
      "Iteration:      3,   Func. Count:     28,   Neg. LLF: 269.69524926943853\n",
      "Iteration:      4,   Func. Count:     36,   Neg. LLF: 127.05135978192988\n",
      "Iteration:      5,   Func. Count:     42,   Neg. LLF: 126.8248398192984\n",
      "Iteration:      6,   Func. Count:     48,   Neg. LLF: 126.8464627693876\n",
      "Iteration:      7,   Func. Count:     55,   Neg. LLF: 126.81604624137032\n",
      "Iteration:      8,   Func. Count:     61,   Neg. LLF: 126.81604549443503\n",
      "Optimization terminated successfully    (Exit mode 0)\n",
      "            Current function value: 126.81604549443503\n",
      "            Iterations: 8\n",
      "            Function evaluations: 61\n",
      "            Gradient evaluations: 8\n"
     ]
    }
   ],
   "source": [
    "garch = arch.arch_model(arimaModelResiduals,vol=\"Garch\", p=1, q=2)\n",
    "garch_fitted = garch.fit()"
   ]
  },
  {
   "cell_type": "markdown",
   "id": "517b532d-bf66-4058-9e1b-2a78019f6ed9",
   "metadata": {},
   "source": [
    "Now, we will predict the test results. "
   ]
  },
  {
   "cell_type": "code",
   "execution_count": 75,
   "id": "f80fc7cb-877d-419a-adda-4a822a34910a",
   "metadata": {},
   "outputs": [],
   "source": [
    "garchResults = garch_fitted.forecast(horizon = len(X_test), reindex = False) # predict the future residuals\n",
    "garchTest = garchResults.residual_variance.to_numpy()[0] \n",
    "arimaTest = arimaModel.predict(len(X_test)) # predict arima\n",
    "result = arimaTest + garchTest # combine results"
   ]
  },
  {
   "cell_type": "code",
   "execution_count": 76,
   "id": "5dfd9cc5-c2e9-4251-98a1-4b84bd6ce16e",
   "metadata": {},
   "outputs": [
    {
     "data": {
      "image/png": "[encoded data removed]",
      "text/plain": [
       "<Figure size 432x288 with 1 Axes>"
      ]
     },
     "metadata": {
      "needs_background": "light"
     },
     "output_type": "display_data"
    },
    {
     "name": "stdout",
     "output_type": "stream",
     "text": [
      "MSE =  65.56631047408236\n"
     ]
    }
   ],
   "source": [
    "plt.plot(cpi[math.ceil(len(cpi) * .7):], color = 'blue', label = 'actual') \n",
    "plt.plot(result, color = 'red', label = 'predict') \n",
    "plt.title('Test Results')\n",
    "plt.legend()\n",
    "plt.show()\n",
    "print('MSE = ', np.mean((X_test - result) ** 2))"
   ]
  },
  {
   "cell_type": "markdown",
   "id": "0a05d65f-5515-4d5c-826d-09bcac032eb9",
   "metadata": {},
   "source": [
    "We can conclude that adding extra infromation from the training residuals is not sufficient to even create a noticable change in the original $ARIMA(1,1,2)$ model. Thus, it is better to use only the original ARIMA model."
   ]
  },
  {
   "cell_type": "code",
   "execution_count": null,
   "id": "87b3f550-2d34-4c31-b310-8a0ffe750e2d",
   "metadata": {},
   "outputs": [],
   "source": []
  }
 ],
 "metadata": {
  "kernelspec": {
   "display_name": "Python 3",
   "language": "python",
   "name": "python3"
  },
  "language_info": {
   "codemirror_mode": {
    "name": "ipython",
    "version": 3
   },
   "file_extension": ".py",
   "mimetype": "text/x-python",
   "name": "python",
   "nbconvert_exporter": "python",
   "pygments_lexer": "ipython3",
   "version": "3.8.2"
  }
 },
 "nbformat": 4,
 "nbformat_minor": 5
}
