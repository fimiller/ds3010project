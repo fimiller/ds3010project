{
 "cells": [
  {
   "cell_type": "code",
   "execution_count": 1,
   "id": "72dc14b0-650f-40a0-8481-afcd1f939d2d",
   "metadata": {},
   "outputs": [],
   "source": [
    "import pandas as pd \n",
    "df = pd.read_csv('ALL_DATA_Marc93.csv')"
   ]
  },
  {
   "cell_type": "code",
   "execution_count": 2,
   "id": "c7811d79-2f3e-4c6c-bc87-8151d9324a5d",
   "metadata": {},
   "outputs": [
    {
     "data": {
      "text/html": [
       "<div>\n",
       "<style scoped>\n",
       "    .dataframe tbody tr th:only-of-type {\n",
       "        vertical-align: middle;\n",
       "    }\n",
       "\n",
       "    .dataframe tbody tr th {\n",
       "        vertical-align: top;\n",
       "    }\n",
       "\n",
       "    .dataframe thead th {\n",
       "        text-align: right;\n",
       "    }\n",
       "</style>\n",
       "<table border=\"1\" class=\"dataframe\">\n",
       "  <thead>\n",
       "    <tr style=\"text-align: right;\">\n",
       "      <th></th>\n",
       "      <th>CPI</th>\n",
       "      <th>SPY</th>\n",
       "      <th>DGS6MO</th>\n",
       "      <th>UNRATE</th>\n",
       "      <th>G17</th>\n",
       "    </tr>\n",
       "  </thead>\n",
       "  <tbody>\n",
       "    <tr>\n",
       "      <th>count</th>\n",
       "      <td>358.000000</td>\n",
       "      <td>358.000000</td>\n",
       "      <td>358.000000</td>\n",
       "      <td>358.000000</td>\n",
       "      <td>358.000000</td>\n",
       "    </tr>\n",
       "    <tr>\n",
       "      <th>mean</th>\n",
       "      <td>207.746846</td>\n",
       "      <td>0.008550</td>\n",
       "      <td>2.430109</td>\n",
       "      <td>5.738547</td>\n",
       "      <td>92.359820</td>\n",
       "    </tr>\n",
       "    <tr>\n",
       "      <th>std</th>\n",
       "      <td>39.485838</td>\n",
       "      <td>0.043870</td>\n",
       "      <td>2.152177</td>\n",
       "      <td>1.780888</td>\n",
       "      <td>10.215503</td>\n",
       "    </tr>\n",
       "    <tr>\n",
       "      <th>min</th>\n",
       "      <td>143.300000</td>\n",
       "      <td>-0.160354</td>\n",
       "      <td>0.035500</td>\n",
       "      <td>3.500000</td>\n",
       "      <td>64.943300</td>\n",
       "    </tr>\n",
       "    <tr>\n",
       "      <th>25%</th>\n",
       "      <td>172.925000</td>\n",
       "      <td>-0.015662</td>\n",
       "      <td>0.202143</td>\n",
       "      <td>4.500000</td>\n",
       "      <td>88.470100</td>\n",
       "    </tr>\n",
       "    <tr>\n",
       "      <th>50%</th>\n",
       "      <td>211.689000</td>\n",
       "      <td>0.013878</td>\n",
       "      <td>1.878592</td>\n",
       "      <td>5.400000</td>\n",
       "      <td>94.961150</td>\n",
       "    </tr>\n",
       "    <tr>\n",
       "      <th>75%</th>\n",
       "      <td>237.498000</td>\n",
       "      <td>0.036915</td>\n",
       "      <td>4.751857</td>\n",
       "      <td>6.300000</td>\n",
       "      <td>100.097400</td>\n",
       "    </tr>\n",
       "    <tr>\n",
       "      <th>max</th>\n",
       "      <td>298.349000</td>\n",
       "      <td>0.133611</td>\n",
       "      <td>6.506000</td>\n",
       "      <td>14.700000</td>\n",
       "      <td>104.829200</td>\n",
       "    </tr>\n",
       "  </tbody>\n",
       "</table>\n",
       "</div>"
      ],
      "text/plain": [
       "              CPI         SPY      DGS6MO      UNRATE         G17\n",
       "count  358.000000  358.000000  358.000000  358.000000  358.000000\n",
       "mean   207.746846    0.008550    2.430109    5.738547   92.359820\n",
       "std     39.485838    0.043870    2.152177    1.780888   10.215503\n",
       "min    143.300000   -0.160354    0.035500    3.500000   64.943300\n",
       "25%    172.925000   -0.015662    0.202143    4.500000   88.470100\n",
       "50%    211.689000    0.013878    1.878592    5.400000   94.961150\n",
       "75%    237.498000    0.036915    4.751857    6.300000  100.097400\n",
       "max    298.349000    0.133611    6.506000   14.700000  104.829200"
      ]
     },
     "execution_count": 2,
     "metadata": {},
     "output_type": "execute_result"
    }
   ],
   "source": [
    "df.describe()"
   ]
  },
  {
   "cell_type": "code",
   "execution_count": null,
   "id": "2b409d6c-d54a-416c-9b66-3b6e8304ee35",
   "metadata": {},
   "outputs": [],
   "source": []
  }
 ],
 "metadata": {
  "kernelspec": {
   "display_name": "Python 3",
   "language": "python",
   "name": "python3"
  },
  "language_info": {
   "codemirror_mode": {
    "name": "ipython",
    "version": 3
   },
   "file_extension": ".py",
   "mimetype": "text/x-python",
   "name": "python",
   "nbconvert_exporter": "python",
   "pygments_lexer": "ipython3",
   "version": "3.8.2"
  }
 },
 "nbformat": 4,
 "nbformat_minor": 5
}
