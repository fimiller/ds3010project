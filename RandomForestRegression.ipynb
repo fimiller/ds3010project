{
 "cells": [
  {
   "cell_type": "code",
   "execution_count": 19,
   "id": "1b687342-063e-4dee-8cd9-51e62a6209b0",
   "metadata": {},
   "outputs": [],
   "source": [
    "from sklearn.ensemble import RandomForestRegressor\n",
    "from sklearn.model_selection import train_test_split\n",
    "import pandas as pd\n",
    "import numpy as np\n",
    "from sklearn.metrics import mean_squared_error as mse\n",
    "from prettytable import PrettyTable"
   ]
  },
  {
   "cell_type": "code",
   "execution_count": 20,
   "id": "00d13c8f-0789-423c-b40c-485f47d4850e",
   "metadata": {},
   "outputs": [],
   "source": [
    "# set up data\n",
    "df = pd.read_csv('ALL_DATA_Marc93.csv')\n",
    "y = list(df['CPI'])\n",
    "X = np.array(df[['SPY','DGS6MO','UNRATE','G17']])\n",
    "\n",
    "X_train, X_test, y_train, y_test = train_test_split(X, y, test_size=0.30, random_state=0)"
   ]
  },
  {
   "cell_type": "code",
   "execution_count": 29,
   "id": "6050dcf2-e68d-4142-a509-c556419b9737",
   "metadata": {},
   "outputs": [
    {
     "name": "stdout",
     "output_type": "stream",
     "text": [
      "+-----------+--------------------+--------------------+--------------------+\n",
      "| Max Depth |  R-Squared(Train)  |  R-Squared(Test)   |    RMSE (Test)     |\n",
      "+-----------+--------------------+--------------------+--------------------+\n",
      "|     2     | 0.8353813582436367 | 0.8425402588694594 | 14.621932599408826 |\n",
      "|     3     | 0.9429146748456029 | 0.9537182021692734 | 7.927296854316089  |\n",
      "|     4     | 0.9679514963005651 | 0.9730621762939294 | 6.0478535249630445 |\n",
      "|     5     | 0.9805769824381755 | 0.977673493565961  | 5.505926339647289  |\n",
      "|     6     | 0.9888965538004568 | 0.9825484232078701 | 4.867851795580677  |\n",
      "|     7     | 0.9921185610628718 | 0.9838653630551175 | 4.680579324458769  |\n",
      "|     8     | 0.9932663975803971 | 0.9854344255433612 | 4.447170906841448  |\n",
      "|     9     | 0.9939290034862455 | 0.9860513082263774 | 4.351978588271636  |\n",
      "|     10    | 0.9939496124279623 | 0.9857803732366552 | 4.394041048358756  |\n",
      "|     11    | 0.9938422173112197 | 0.985082706962629  | 4.500544100630197  |\n",
      "+-----------+--------------------+--------------------+--------------------+\n"
     ]
    }
   ],
   "source": [
    "# contruct prettytable\n",
    "table = PrettyTable()\n",
    "table.field_names = ['Max Depth', 'R-Squared(Train)', 'R-Squared(Test)' ,'RMSE (Test)']\n",
    "    \n",
    "for depth in range(2,12):\n",
    "    regr = RandomForestRegressor(max_depth=depth, random_state=0)\n",
    "    regr.fit(X_train, y_train)\n",
    "    table.add_row([depth,regr.score(X_train,y_train),regr.score(X_test,y_test),mse(y_test, regr.predict(X_test))**.5])\n",
    "\n",
    "print(table)"
   ]
  },
  {
   "cell_type": "markdown",
   "id": "6475e806-3d7d-4515-b283-4c56912fde1c",
   "metadata": {},
   "source": [
    "# Result\n",
    "At the 9th depth, the RMSE stops decreasing and the r-squared for the test sets stops increasing"
   ]
  },
  {
   "cell_type": "code",
   "execution_count": null,
   "id": "6856b61a-01f0-49d1-ab28-ba1358c3a9bc",
   "metadata": {},
   "outputs": [],
   "source": []
  }
 ],
 "metadata": {
  "kernelspec": {
   "display_name": "Python 3 (ipykernel)",
   "language": "python",
   "name": "python3"
  },
  "language_info": {
   "codemirror_mode": {
    "name": "ipython",
    "version": 3
   },
   "file_extension": ".py",
   "mimetype": "text/x-python",
   "name": "python",
   "nbconvert_exporter": "python",
   "pygments_lexer": "ipython3",
   "version": "3.9.0"
  }
 },
 "nbformat": 4,
 "nbformat_minor": 5
}
