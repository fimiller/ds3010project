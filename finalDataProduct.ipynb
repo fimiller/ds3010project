{
 "cells": [
  {
   "cell_type": "markdown",
   "id": "94f509f0-1d44-4dc4-8e19-936a0126e75d",
   "metadata": {},
   "source": [
    "# DS3010: Predicting the Consumer Price Index (CPI)\n",
    "This jupyter notebook allows you to apply all the models we tried in one convenient location. This code is largely the same from the original notebooks, but contains extra annotations.\n",
    "\n",
    "For each of the major models, we recommend restarting the jupyter notebook kernel before the import statements and running the model."
   ]
  },
  {
   "cell_type": "markdown",
   "id": "b5b3f534-1609-4a0c-a94a-c5bf73e63ca8",
   "metadata": {},
   "source": [
    "## Model 1: Random Forest\n"
   ]
  },
  {
   "cell_type": "code",
   "execution_count": 1,
   "id": "c862b38b-8731-4d93-9dba-9f30c02f3978",
   "metadata": {},
   "outputs": [],
   "source": [
    "# necessary imports\n",
    "from sklearn.ensemble import RandomForestRegressor\n",
    "from sklearn.model_selection import train_test_split\n",
    "import pandas as pd\n",
    "import numpy as np\n",
    "from sklearn.metrics import mean_squared_error as mse\n",
    "from prettytable import PrettyTable"
   ]
  },
  {
   "cell_type": "code",
   "execution_count": 2,
   "id": "fb7c7553-b9c1-486a-9e8b-6641986f0d9b",
   "metadata": {},
   "outputs": [],
   "source": [
    "# set up data\n",
    "df = pd.read_csv('ALL_DATA_Marc93.csv') # read the data \n",
    "y = list(df['CPI']) # get the predictor result \n",
    "X = np.array(df[['SPY','DGS6MO','UNRATE','G17']]) # read the predictor variables \n",
    "\n",
    "X_train, X_test, y_train, y_test = train_test_split(X, y, test_size=0.30, random_state=0) # train test split "
   ]
  },
  {
   "cell_type": "code",
   "execution_count": 3,
   "id": "ac4c0998-9a11-4a90-83f6-27e2769d512a",
   "metadata": {},
   "outputs": [
    {
     "name": "stdout",
     "output_type": "stream",
     "text": [
      "+-----------+--------------------+--------------------+--------------------+\n",
      "| Max Depth |  R-Squared(Train)  |  R-Squared(Test)   |     MSE (Test)     |\n",
      "+-----------+--------------------+--------------------+--------------------+\n",
      "|     2     | 0.8353813582436367 | 0.8425402588694594 | 213.80091294165456 |\n",
      "|     3     | 0.9429146748456029 | 0.9537182021692734 | 62.84203541644976  |\n",
      "|     4     | 0.9679514963005651 | 0.9730621762939294 | 36.57653225940792  |\n",
      "|     5     | 0.9805769824381755 | 0.977673493565961  | 30.31522485762179  |\n",
      "|     6     | 0.9888965538004568 | 0.9825484232078701 | 23.695981103738017 |\n",
      "|     7     | 0.9921185610628718 | 0.9838653630551175 | 21.907822812550904 |\n",
      "|     8     | 0.9932663975803971 | 0.9854344255433612 | 19.77732907465699  |\n",
      "|     9     | 0.9939290034862455 | 0.9860513082263774 | 18.93971763277478  |\n",
      "|     10    | 0.9939496124279623 | 0.9857803732366552 | 19.30759673466171  |\n",
      "|     11    | 0.9938422173112197 | 0.985082706962629  | 20.25489720171727  |\n",
      "+-----------+--------------------+--------------------+--------------------+\n"
     ]
    }
   ],
   "source": [
    "# contruct prettytable\n",
    "table = PrettyTable() # for reading the results \n",
    "table.field_names = ['Max Depth', 'R-Squared(Train)', 'R-Squared(Test)' ,'MSE (Test)'] # headers\n",
    "    \n",
    "for depth in range(2,12): # testing different depths for accuracies \n",
    "    regr = RandomForestRegressor(max_depth=depth, random_state=0) # making the regression\n",
    "    regr.fit(X_train, y_train) # training it \n",
    "    table.add_row([depth,regr.score(X_train,y_train),regr.score(X_test,y_test),mse(y_test, regr.predict(X_test))]) # appending results \n",
    "\n",
    "print(table)"
   ]
  },
  {
   "cell_type": "markdown",
   "id": "c7c1a088-1cf7-45ce-a866-5e05c0921005",
   "metadata": {},
   "source": [
    "# Result\n",
    "At the 9th depth, the MSE stops decreasing and the r-squared for the test sets stops increasing. As such, we use a random forest at depth 9 for our predictions."
   ]
  },
  {
   "cell_type": "code",
   "execution_count": null,
   "id": "218f2402-2bf9-4c3d-8659-7388bd9e539f",
   "metadata": {},
   "outputs": [],
   "source": [
    "# Plot one of the trees in the forests\n",
    "from sklearn.ensemble import RandomForestClassifier\n",
    "\n",
    "regr = RandomForestRegressor(max_depth=9, random_state=0)\n",
    "regr.fit(X_train, y_train)\n",
    "\n",
    "estimator = regr.estimators_[5]\n",
    "\n",
    "from matplotlib import pyplot as plt\n",
    "from sklearn import tree\n",
    "\n",
    "fig = plt.figure(figsize=(200,30))\n",
    "tree.plot_tree(estimator,filled=True,fontsize=16)\n",
    "plt.savefig('beautifultree.png')"
   ]
  },
  {
   "cell_type": "markdown",
   "id": "a1286d92-0e30-4376-84f4-0f0590101bdc",
   "metadata": {},
   "source": [
    "## Model 2: $ARIMA(p,d,q)$ and $GARCH(p,d)$ models."
   ]
  },
  {
   "cell_type": "code",
   "execution_count": 10,
   "id": "9e859011-b76b-4ce3-b71b-6554287ad792",
   "metadata": {},
   "outputs": [],
   "source": [
    "# imports for arima modeling\n",
    "import pandas as pd # pandas for reading the data\n",
    "from pandas.plotting import autocorrelation_plot # getting the autocorrelation plots \n",
    "from statsmodels.tsa.arima.model import ARIMA # creating the ARIMA model\n",
    "from statsmodels.tsa.arima_model import ARMAResults  # for the ARIMA results after fitting\n",
    "import numpy as np # for numerical work\n",
    "import matplotlib.pyplot as plt # plotting the results  \n",
    "import warnings # easier readability\n",
    "import math # for computing the train test split \n",
    "warnings.filterwarnings(\"ignore\")"
   ]
  },
  {
   "cell_type": "markdown",
   "id": "a44b6784-27cf-42a0-ab79-d3234d83c471",
   "metadata": {},
   "source": [
    "## $ARIMA(p,d,q)$ modeling\n",
    "## Train Test Split\n",
    "As the classical time series technique we are applying here requires a complete dataset, the train test split will be done differently as compared to other models. We will use the first $70\\%$ of the dataset for training the model, and then test the dataset on the more recent, remaining $30\\%$ of the data. Since the dataset begins in 1993, this will test the dataset on about nine years of monthly data (107 datapoints)."
   ]
  },
  {
   "cell_type": "code",
   "execution_count": 11,
   "id": "560f9e1e-0a62-4a42-a077-8b08774f500c",
   "metadata": {},
   "outputs": [
    {
     "name": "stdout",
     "output_type": "stream",
     "text": [
      "0      143.300\n",
      "1      143.800\n",
      "2      144.200\n",
      "3      144.300\n",
      "4      144.500\n",
      "        ...   \n",
      "246    233.544\n",
      "247    233.669\n",
      "248    234.100\n",
      "249    234.719\n",
      "250    235.288\n",
      "Name: CPI, Length: 251, dtype: float64\n",
      "251    235.547\n",
      "252    236.028\n",
      "253    236.468\n",
      "254    236.918\n",
      "255    237.231\n",
      "        ...   \n",
      "353    295.620\n",
      "354    296.761\n",
      "355    298.062\n",
      "356    298.349\n",
      "357    298.112\n",
      "Name: CPI, Length: 107, dtype: float64\n"
     ]
    }
   ],
   "source": [
    "df = pd.read_csv('ALL_DATA_Marc93.csv') # read the dataframe \n",
    "cpi = df['CPI'] # pull only the CPI\n",
    "X_train = cpi[:math.ceil(len(cpi) * .7)] # create the training set \n",
    "X_test = cpi[math.ceil(len(cpi) * .7):] # create the testing set \n",
    "print(X_train)# display the training set \n",
    "print(X_test) # display the testing set "
   ]
  },
  {
   "cell_type": "markdown",
   "id": "569c8a6a-f0ea-4954-b529-a8796367dded",
   "metadata": {},
   "source": [
    "The first item of business for an ARIMA is to determine how many finite differences are needed for modeling. This represents in the \"integrated\" piece of ARIMA. The goal is to have the autocorrelation plots quickly go to $0$ and hover around this value."
   ]
  },
  {
   "cell_type": "code",
   "execution_count": 12,
   "id": "cdb29924-cd7e-45c0-a7fa-ce7830a14d42",
   "metadata": {},
   "outputs": [
    {
     "data": {
      "text/plain": [
       "<AxesSubplot:xlabel='Lag', ylabel='Autocorrelation'>"
      ]
     },
     "execution_count": 12,
     "metadata": {},
     "output_type": "execute_result"
    },
    {
     "data": {
      "image/png": "[encoded data removed]",
      "text/plain": [
       "<Figure size 432x288 with 1 Axes>"
      ]
     },
     "metadata": {
      "needs_background": "light"
     },
     "output_type": "display_data"
    }
   ],
   "source": [
    "autocorrelation_plot(X_train) # create an autocorrelation using 0 differences"
   ]
  },
  {
   "cell_type": "code",
   "execution_count": 13,
   "id": "fb4a4288-a173-4ebb-aca0-2c1cf6c266aa",
   "metadata": {},
   "outputs": [
    {
     "data": {
      "text/plain": [
       "<AxesSubplot:xlabel='Lag', ylabel='Autocorrelation'>"
      ]
     },
     "execution_count": 13,
     "metadata": {},
     "output_type": "execute_result"
    },
    {
     "data": {
      "image/png": "[encoded data removed]",
      "text/plain": [
       "<Figure size 432x288 with 1 Axes>"
      ]
     },
     "metadata": {
      "needs_background": "light"
     },
     "output_type": "display_data"
    }
   ],
   "source": [
    "autocorrelation_plot(np.diff(X_train)) # creating an autocorrelation plot with 1 difference "
   ]
  },
  {
   "cell_type": "markdown",
   "id": "31919375-791b-4ceb-863b-585c64e05282",
   "metadata": {},
   "source": [
    "One difference was enough, so we set `d = 1` in $ARIMA(p,d,q)$. Now, we need to test how many memory and average terms we need. This is typically done by testing $0,1,$ or $2$ memory terms (this is $p$) and average terms (this is $q$). We verify which is the best used the Akaike Information Criteria (AIC) and Bayes Information Criteria (BIC). These are information theoretic terms that tells how \"simple\" this model is. The goal is to use a model of a low AIC and BIC values. "
   ]
  },
  {
   "cell_type": "code",
   "execution_count": 14,
   "id": "d37ebc19-7218-47cf-8086-52bb5a7c1081",
   "metadata": {},
   "outputs": [
    {
     "name": "stdout",
     "output_type": "stream",
     "text": [
      "p =  0 | q =  0\n",
      "aic =  510.1442284005786\n",
      "bic =  513.6656893184409\n",
      "==================NEXT MODEL==================\n",
      "p =  0 | q =  1\n",
      "aic =  418.7914146142671\n",
      "bic =  425.8343364499916\n",
      "==================NEXT MODEL==================\n",
      "p =  0 | q =  2\n",
      "aic =  401.24887440225837\n",
      "bic =  411.8132571558451\n",
      "==================NEXT MODEL==================\n",
      "p =  1 | q =  0\n",
      "aic =  403.1620563713611\n",
      "bic =  410.20497820708556\n",
      "==================NEXT MODEL==================\n",
      "p =  1 | q =  1\n",
      "aic =  401.09885445965807\n",
      "bic =  411.6632372132448\n",
      "==================NEXT MODEL==================\n",
      "p =  1 | q =  2\n",
      "aic =  373.35276526917244\n",
      "bic =  387.4386089406214\n",
      "==================NEXT MODEL==================\n",
      "p =  2 | q =  0\n",
      "aic =  402.5297096439082\n",
      "bic =  413.09409239749493\n",
      "==================NEXT MODEL==================\n",
      "p =  2 | q =  1\n",
      "aic =  402.94870425329725\n",
      "bic =  417.0345479247462\n",
      "==================NEXT MODEL==================\n",
      "p =  2 | q =  2\n",
      "aic =  373.28223461044325\n",
      "bic =  390.8895391997545\n",
      "==================NEXT MODEL==================\n"
     ]
    }
   ],
   "source": [
    "# 1 diff was needed so d = 1 for ARIMA (p, d, q)\n",
    "d = 1\n",
    "for p in range(3): # iterate on p values\n",
    "    for q in range(3): # iterate on q values \n",
    "        print('p = ', p, '| q = ', q)\n",
    "        model = ARIMA(X_train, order=(p,d,q)) # create a model with these parameters\n",
    "        results_ARIMA = model.fit() # train a model\n",
    "        print('aic = ', results_ARIMA.aic)\n",
    "        print('bic = ', results_ARIMA.bic)\n",
    "        print('==================NEXT MODEL==================')\n"
   ]
  },
  {
   "cell_type": "code",
   "execution_count": 15,
   "id": "1862bc47-9e18-402c-82e2-af9bb1be84f7",
   "metadata": {},
   "outputs": [
    {
     "name": "stdout",
     "output_type": "stream",
     "text": [
      "                               SARIMAX Results                                \n",
      "==============================================================================\n",
      "Dep. Variable:                    CPI   No. Observations:                  251\n",
      "Model:                 ARIMA(1, 1, 2)   Log Likelihood                -182.676\n",
      "Date:                Thu, 23 Feb 2023   AIC                            373.353\n",
      "Time:                        12:09:37   BIC                            387.439\n",
      "Sample:                             0   HQIC                           379.022\n",
      "                                - 251                                         \n",
      "Covariance Type:                  opg                                         \n",
      "==============================================================================\n",
      "                 coef    std err          z      P>|z|      [0.025      0.975]\n",
      "------------------------------------------------------------------------------\n",
      "ar.L1          1.0000      0.000   2084.913      0.000       0.999       1.001\n",
      "ma.L1         -0.5340      0.128     -4.158      0.000      -0.786      -0.282\n",
      "ma.L2         -0.4647      0.071     -6.571      0.000      -0.603      -0.326\n",
      "sigma2         0.2486      0.038      6.558      0.000       0.174       0.323\n",
      "===================================================================================\n",
      "Ljung-Box (L1) (Q):                   0.57   Jarque-Bera (JB):               945.18\n",
      "Prob(Q):                              0.45   Prob(JB):                         0.00\n",
      "Heteroskedasticity (H):               9.94   Skew:                            -1.18\n",
      "Prob(H) (two-sided):                  0.00   Kurtosis:                        12.23\n",
      "===================================================================================\n",
      "\n",
      "Warnings:\n",
      "[1] Covariance matrix calculated using the outer product of gradients (complex-step).\n"
     ]
    }
   ],
   "source": [
    "p = 1 \n",
    "q = 2\n",
    "model = ARIMA(X_train, order=(p,d,q))\n",
    "results_ARIMA = model.fit()\n",
    "print(results_ARIMA.summary())"
   ]
  },
  {
   "cell_type": "markdown",
   "id": "ac8dd937-88a7-432a-8bd0-6a68be35898b",
   "metadata": {},
   "source": [
    "Here, we compute the mean square error (MSE) of the $ARIMA(1,1,2)$ model on the testing data."
   ]
  },
  {
   "cell_type": "code",
   "execution_count": 16,
   "id": "5c60a1b9-a2bc-43e8-9e4f-ef676cd4bfbb",
   "metadata": {},
   "outputs": [
    {
     "name": "stdout",
     "output_type": "stream",
     "text": [
      "MSE =  67.81060707412108\n"
     ]
    }
   ],
   "source": [
    "print('MSE = ', np.mean((results_ARIMA.forecast(math.floor(len(cpi) * .3)) - X_test) ** 2))"
   ]
  },
  {
   "cell_type": "markdown",
   "id": "9071008c-f474-49d7-bc21-a089de6e7974",
   "metadata": {},
   "source": [
    "Below, we plot the testing portion of our resulting model. "
   ]
  },
  {
   "cell_type": "code",
   "execution_count": 17,
   "id": "26962b82-f820-4daf-8efa-596f34551ff6",
   "metadata": {},
   "outputs": [
    {
     "data": {
      "image/png": "[encoded data removed]",
      "text/plain": [
       "<Figure size 432x288 with 1 Axes>"
      ]
     },
     "metadata": {
      "needs_background": "light"
     },
     "output_type": "display_data"
    }
   ],
   "source": [
    "plt.plot(cpi[math.ceil(len(cpi) * .7):], color = 'blue', label = 'actual') \n",
    "plt.plot(results_ARIMA.forecast(math.floor(len(cpi) * .3)), color = 'red', label = 'predict') \n",
    "plt.title('Test Results')\n",
    "plt.legend()\n",
    "plt.show()"
   ]
  },
  {
   "cell_type": "markdown",
   "id": "162b6a24-1bf0-4a4c-a691-348612b9ae2e",
   "metadata": {},
   "source": [
    "Below, we plot the training results and report MSE."
   ]
  },
  {
   "cell_type": "code",
   "execution_count": 18,
   "id": "3937906d-72b5-40ba-8af0-30f311b3a21d",
   "metadata": {},
   "outputs": [
    {
     "data": {
      "image/png": "[encoded data removed]",
      "text/plain": [
       "<Figure size 432x288 with 1 Axes>"
      ]
     },
     "metadata": {
      "needs_background": "light"
     },
     "output_type": "display_data"
    },
    {
     "name": "stdout",
     "output_type": "stream",
     "text": [
      "MSE =  0.2502951358455455\n"
     ]
    }
   ],
   "source": [
    "plt.plot(results_ARIMA.fittedvalues[1:], color = 'red', label = 'predict') # the first item is 0 as the time series is not infinite\n",
    "plt.plot(cpi[:math.ceil(len(cpi) * .7)], color = 'blue', label = 'actual') \n",
    "plt.legend()\n",
    "plt.title('Train Results')\n",
    "plt.show()\n",
    "print('MSE = ', np.mean((results_ARIMA.fittedvalues[1:] - X_train) ** 2))"
   ]
  },
  {
   "cell_type": "markdown",
   "id": "ae7e0580-1d86-4a93-aef4-aed0ba7d3283",
   "metadata": {},
   "source": [
    "This model was much more accurate on the training set than the testing set. The model was not able to predict extreme inflation striking to quite the level it did, and instead was predicting nearly linear growth."
   ]
  },
  {
   "cell_type": "markdown",
   "id": "357523ad-9aa5-4d89-9ed5-779f353297a2",
   "metadata": {},
   "source": [
    "## Augmenting with $GARCH(1,2)$"
   ]
  },
  {
   "cell_type": "markdown",
   "id": "2673dbdf-0071-4b22-bb0d-d06ac9ef20a2",
   "metadata": {},
   "source": [
    "Necessary pip install packages for these models are here."
   ]
  },
  {
   "cell_type": "code",
   "execution_count": null,
   "id": "b6c8a7d3-ac02-4303-8e60-777562a825b6",
   "metadata": {},
   "outputs": [],
   "source": [
    "%pip install pmdarima"
   ]
  },
  {
   "cell_type": "code",
   "execution_count": null,
   "id": "b9a5236a-03eb-4810-8d59-c1a23cd67bad",
   "metadata": {},
   "outputs": [],
   "source": [
    "%pip install arch"
   ]
  },
  {
   "cell_type": "code",
   "execution_count": null,
   "id": "7dd09da4-517e-495f-b1e0-8972f5a68621",
   "metadata": {},
   "outputs": [],
   "source": [
    "# necessary imports for garch\n",
    "import pmdarima\n",
    "import arch\n",
    "import pandas as pd\n",
    "import numpy as np\n",
    "import matplotlib.pyplot as plt\n",
    "import math"
   ]
  },
  {
   "cell_type": "markdown",
   "id": "deaf56a0-febc-4398-b819-e25bd4f31437",
   "metadata": {},
   "source": [
    "To create the ARIMA model, we will use the same parameters as before."
   ]
  },
  {
   "cell_type": "code",
   "execution_count": 30,
   "id": "b00d6ef0-dee3-4a07-b973-084b33d0a149",
   "metadata": {},
   "outputs": [
    {
     "name": "stdout",
     "output_type": "stream",
     "text": [
      "original test MSE =  0.23694398905919364\n"
     ]
    }
   ],
   "source": [
    "df = pd.read_csv('ALL_DATA_Marc93.csv') # read the dataframe \n",
    "cpi = df['CPI'] # pull only the CPI\n",
    "X_train = cpi[:math.ceil(len(cpi) * .7)] # create the training set \n",
    "X_test = cpi[math.ceil(len(cpi) * .7):] # create the testing set \n",
    "arimaModel = pmdarima.ARIMA((1,1,2))\n",
    "print('original test MSE = ', np.mean((X_train - arimaModel.fit(X_train).fittedvalues()[1:]) ** 2))\n",
    "arimaModelResiduals = arimaModel.resid()[1:] # the difference of 1 requires this \n"
   ]
  },
  {
   "cell_type": "markdown",
   "id": "b75ae9f6-3e75-47db-aec8-d3f9ece4e882",
   "metadata": {},
   "source": [
    "Now, we will train a $GARCH(1,2)$ model, as this is the same $p$ and $q$ from the ARIMA model."
   ]
  },
  {
   "cell_type": "code",
   "execution_count": 36,
   "id": "83825c69-0fc1-4620-8163-1561f85f1355",
   "metadata": {},
   "outputs": [
    {
     "name": "stdout",
     "output_type": "stream",
     "text": [
      "Iteration:      1,   Func. Count:      7,   Neg. LLF: 4930.639000010183\n",
      "Iteration:      2,   Func. Count:     18,   Neg. LLF: 1171.5549227091951\n",
      "Iteration:      3,   Func. Count:     28,   Neg. LLF: 269.69524926943853\n",
      "Iteration:      4,   Func. Count:     36,   Neg. LLF: 127.05135978192988\n",
      "Iteration:      5,   Func. Count:     42,   Neg. LLF: 126.8248398192984\n",
      "Iteration:      6,   Func. Count:     48,   Neg. LLF: 126.8464627693876\n",
      "Iteration:      7,   Func. Count:     55,   Neg. LLF: 126.81604624137032\n",
      "Iteration:      8,   Func. Count:     61,   Neg. LLF: 126.81604549443503\n",
      "Optimization terminated successfully    (Exit mode 0)\n",
      "            Current function value: 126.81604549443503\n",
      "            Iterations: 8\n",
      "            Function evaluations: 61\n",
      "            Gradient evaluations: 8\n"
     ]
    }
   ],
   "source": [
    "garch = arch.arch_model(arimaModelResiduals,vol=\"Garch\", p=1, q=2)\n",
    "garch_fitted = garch.fit()"
   ]
  },
  {
   "cell_type": "markdown",
   "id": "84a7b3dd-913d-4d87-b389-10a29b88e765",
   "metadata": {},
   "source": [
    "Now, we will predict the test results. "
   ]
  },
  {
   "cell_type": "code",
   "execution_count": 75,
   "id": "79829b71-3681-4b3e-8484-1201c7c9e5d5",
   "metadata": {},
   "outputs": [],
   "source": [
    "garchResults = garch_fitted.forecast(horizon = len(X_test), reindex = False) # predict the future residuals\n",
    "garchTest = garchResults.residual_variance.to_numpy()[0] \n",
    "arimaTest = arimaModel.predict(len(X_test)) # predict arima\n",
    "result = arimaTest + garchTest # combine results"
   ]
  },
  {
   "cell_type": "code",
   "execution_count": 76,
   "id": "f8c09924-f090-4d7d-92a0-db841ffc58ee",
   "metadata": {},
   "outputs": [
    {
     "data": {
      "image/png": "[encoded data removed]",
      "text/plain": [
       "<Figure size 432x288 with 1 Axes>"
      ]
     },
     "metadata": {
      "needs_background": "light"
     },
     "output_type": "display_data"
    },
    {
     "name": "stdout",
     "output_type": "stream",
     "text": [
      "MSE =  65.56631047408236\n"
     ]
    }
   ],
   "source": [
    "plt.plot(cpi[math.ceil(len(cpi) * .7):], color = 'blue', label = 'actual') \n",
    "plt.plot(result, color = 'red', label = 'predict') \n",
    "plt.title('Test Results')\n",
    "plt.legend()\n",
    "plt.show()\n",
    "print('MSE = ', np.mean((X_test - result) ** 2))"
   ]
  },
  {
   "cell_type": "markdown",
   "id": "dd5491d8-e704-4cf3-bc30-247fe97ed083",
   "metadata": {},
   "source": [
    "We can conclude that adding extra infromation from the training residuals is not sufficient to even create a noticable change in the original $ARIMA(1,1,2)$ model. Thus, it is better to use only the original ARIMA model."
   ]
  },
  {
   "cell_type": "markdown",
   "id": "6978ccec-1888-46ff-89f9-f3c25a89f7bc",
   "metadata": {},
   "source": [
    "# Model 3: Multilinear Regression"
   ]
  },
  {
   "cell_type": "code",
   "execution_count": 23,
   "id": "fc4b0713-8e64-4082-8bc3-68b5b3534f12",
   "metadata": {},
   "outputs": [
    {
     "name": "stdout",
     "output_type": "stream",
     "text": [
      "Test Accuracy:  0.7452339150760441\n",
      "MSE:  345.9247497311432\n",
      "Coefficients:  [[45.90766982 -8.05468303 -1.179352    2.30721954]]\n",
      "Intercept:  [22.06997525]\n"
     ]
    },
    {
     "data": {
      "image/png": "[encoded data removed]",
      "text/plain": [
       "<Figure size 432x288 with 1 Axes>"
      ]
     },
     "metadata": {
      "needs_background": "light"
     },
     "output_type": "display_data"
    }
   ],
   "source": [
    "import numpy as np\n",
    "import pandas as pd\n",
    "from sklearn.linear_model import LinearRegression\n",
    "from sklearn.model_selection import train_test_split\n",
    "from sklearn.metrics import mean_squared_error\n",
    "import matplotlib.pyplot as plt\n",
    "\n",
    "data = pd.read_csv(\"ALL_DATA_Marc93.csv\", index_col=False)\n",
    "\n",
    "# input: SPY, DGS6MO, UNRATE, G17, outcome: CPI\n",
    "x = data[[\"SPY\", \"DGS6MO\", \"UNRATE\", \"G17\"]].to_numpy()\n",
    "y = data[[\"CPI\"]].to_numpy()\n",
    "\n",
    "# 70-30 train/test split\n",
    "x_train, x_test, y_train, y_test = train_test_split(x, y, test_size=0.30, random_state=0)\n",
    "\n",
    "lin_reg = LinearRegression()  # build the linear regression model\n",
    "lin_reg.fit(x_train,y_train)  # train the linear regression model\n",
    "\n",
    "# predict outcome on test\n",
    "y_pred = lin_reg.predict(x_test)\n",
    "\n",
    "# test accuracy\n",
    "test_acc = lin_reg.score(x_test, y_test)\n",
    "print(\"Test Accuracy: \", test_acc)\n",
    "\n",
    "# mse\n",
    "mse = mean_squared_error(y_test,y_pred)\n",
    "print(\"MSE: \", mse)\n",
    "\n",
    "# linear regression formula\n",
    "coef = lin_reg.coef_\n",
    "intr = lin_reg.intercept_\n",
    "print(\"Coefficients: \", coef)\n",
    "print(\"Intercept: \", intr)\n",
    "\n",
    "# visualize\n",
    "plt.plot(y_test, color ='orange', label = 'actual')\n",
    "plt.plot(y_pred, color ='b', label = 'predict')\n",
    "plt.legend()\n",
    "plt.show()"
   ]
  },
  {
   "cell_type": "markdown",
   "id": "1b8752da-a458-4f45-be23-fb9f6ab9b3cd",
   "metadata": {},
   "source": [
    "# Model 4: Neural Networks\n",
    "\n",
    "Warning: This is best with a GPU, so run this on google colab or a GPU for best results."
   ]
  },
  {
   "cell_type": "markdown",
   "id": "2f7761f8-671c-45a6-a997-5c2b387bb256",
   "metadata": {
    "id": "JAEocldVOnGE"
   },
   "source": [
    "# **Feedforward neural network**\n",
    "\n",
    "This notebook will describe the process of training and testing a neural network to predict the consumer price index."
   ]
  },
  {
   "cell_type": "code",
   "execution_count": 1,
   "id": "2c89e618-7603-4795-872b-4e70e5abd4b5",
   "metadata": {
    "id": "NsqAuxop5WAE"
   },
   "outputs": [],
   "source": [
    "import os\n",
    "import pandas as pd\n",
    "import numpy as np\n",
    "import matplotlib.pyplot as plt\n",
    "import seaborn as sns\n",
    "\n",
    "import torch\n",
    "from torch import nn\n",
    "import torch.optim as optim\n",
    "from torch.utils.data import Dataset, DataLoader\n",
    "from torchvision import datasets, transforms\n",
    "\n",
    "from sklearn.model_selection import train_test_split\n",
    "from sklearn.preprocessing import MinMaxScaler   \n",
    "from sklearn.metrics import mean_squared_error, accuracy_score"
   ]
  },
  {
   "cell_type": "markdown",
   "id": "3d7fd8b5-6c8a-451e-8cfd-a8f01c114e16",
   "metadata": {
    "id": "ogcAST40PBDu"
   },
   "source": [
    "Must make sure that we are using GPU for efficient running of the following code"
   ]
  },
  {
   "cell_type": "code",
   "execution_count": 2,
   "id": "c2ecfa05-1ff1-4cb4-b6cd-a833e09b2a6c",
   "metadata": {
    "colab": {
     "base_uri": "https://localhost:8080/"
    },
    "id": "CM7KTf4c50p6",
    "outputId": "a8583207-e441-4178-ba87-4b724ab8fe05"
   },
   "outputs": [
    {
     "name": "stdout",
     "output_type": "stream",
     "text": [
      "Using cuda device\n"
     ]
    },
    {
     "data": {
      "text/plain": [
       "<torch._C.Generator at 0x7fdaa1c28710>"
      ]
     },
     "execution_count": 2,
     "metadata": {},
     "output_type": "execute_result"
    }
   ],
   "source": [
    "device = \"cuda\" if torch.cuda.is_available() else \"cpu\"\n",
    "print(f\"Using {device} device\")\n",
    "\n",
    "torch.manual_seed(1)"
   ]
  },
  {
   "cell_type": "markdown",
   "id": "4a984af8-2f77-4a10-9089-d90567e4e18e",
   "metadata": {
    "id": "goisOxU7PMDE"
   },
   "source": [
    "# Prepare the data for training\n",
    "\n",
    "Here we load the data and split the training and test datasets. As a group, we agreed to have a 70-30 train test split for each of our models. \n"
   ]
  },
  {
   "cell_type": "code",
   "execution_count": 3,
   "id": "162102a6-9e2d-4ad4-80ed-cab2e252dd0a",
   "metadata": {
    "colab": {
     "base_uri": "https://localhost:8080/",
     "height": 262
    },
    "id": "dOFSrQmaV62Z",
    "outputId": "4ae3b08c-f2e7-4893-94f1-624eb715d053"
   },
   "outputs": [
    {
     "data": {
      "text/html": [
       "\n",
       "     <input type=\"file\" id=\"files-9179286a-a3ce-4423-9b76-7ad17d9ae57c\" name=\"files[]\" multiple disabled\n",
       "        style=\"border:none\" />\n",
       "     <output id=\"result-9179286a-a3ce-4423-9b76-7ad17d9ae57c\">\n",
       "      Upload widget is only available when the cell has been executed in the\n",
       "      current browser session. Please rerun this cell to enable.\n",
       "      </output>\n",
       "      <script>// Copyright 2017 Google LLC\n",
       "//\n",
       "// Licensed under the Apache License, Version 2.0 (the \"License\");\n",
       "// you may not use this file except in compliance with the License.\n",
       "// You may obtain a copy of the License at\n",
       "//\n",
       "//      http://www.apache.org/licenses/LICENSE-2.0\n",
       "//\n",
       "// Unless required by applicable law or agreed to in writing, software\n",
       "// distributed under the License is distributed on an \"AS IS\" BASIS,\n",
       "// WITHOUT WARRANTIES OR CONDITIONS OF ANY KIND, either express or implied.\n",
       "// See the License for the specific language governing permissions and\n",
       "// limitations under the License.\n",
       "\n",
       "/**\n",
       " * @fileoverview Helpers for google.colab Python module.\n",
       " */\n",
       "(function(scope) {\n",
       "function span(text, styleAttributes = {}) {\n",
       "  const element = document.createElement('span');\n",
       "  element.textContent = text;\n",
       "  for (const key of Object.keys(styleAttributes)) {\n",
       "    element.style[key] = styleAttributes[key];\n",
       "  }\n",
       "  return element;\n",
       "}\n",
       "\n",
       "// Max number of bytes which will be uploaded at a time.\n",
       "const MAX_PAYLOAD_SIZE = 100 * 1024;\n",
       "\n",
       "function _uploadFiles(inputId, outputId) {\n",
       "  const steps = uploadFilesStep(inputId, outputId);\n",
       "  const outputElement = document.getElementById(outputId);\n",
       "  // Cache steps on the outputElement to make it available for the next call\n",
       "  // to uploadFilesContinue from Python.\n",
       "  outputElement.steps = steps;\n",
       "\n",
       "  return _uploadFilesContinue(outputId);\n",
       "}\n",
       "\n",
       "// This is roughly an async generator (not supported in the browser yet),\n",
       "// where there are multiple asynchronous steps and the Python side is going\n",
       "// to poll for completion of each step.\n",
       "// This uses a Promise to block the python side on completion of each step,\n",
       "// then passes the result of the previous step as the input to the next step.\n",
       "function _uploadFilesContinue(outputId) {\n",
       "  const outputElement = document.getElementById(outputId);\n",
       "  const steps = outputElement.steps;\n",
       "\n",
       "  const next = steps.next(outputElement.lastPromiseValue);\n",
       "  return Promise.resolve(next.value.promise).then((value) => {\n",
       "    // Cache the last promise value to make it available to the next\n",
       "    // step of the generator.\n",
       "    outputElement.lastPromiseValue = value;\n",
       "    return next.value.response;\n",
       "  });\n",
       "}\n",
       "\n",
       "/**\n",
       " * Generator function which is called between each async step of the upload\n",
       " * process.\n",
       " * @param {string} inputId Element ID of the input file picker element.\n",
       " * @param {string} outputId Element ID of the output display.\n",
       " * @return {!Iterable<!Object>} Iterable of next steps.\n",
       " */\n",
       "function* uploadFilesStep(inputId, outputId) {\n",
       "  const inputElement = document.getElementById(inputId);\n",
       "  inputElement.disabled = false;\n",
       "\n",
       "  const outputElement = document.getElementById(outputId);\n",
       "  outputElement.innerHTML = '';\n",
       "\n",
       "  const pickedPromise = new Promise((resolve) => {\n",
       "    inputElement.addEventListener('change', (e) => {\n",
       "      resolve(e.target.files);\n",
       "    });\n",
       "  });\n",
       "\n",
       "  const cancel = document.createElement('button');\n",
       "  inputElement.parentElement.appendChild(cancel);\n",
       "  cancel.textContent = 'Cancel upload';\n",
       "  const cancelPromise = new Promise((resolve) => {\n",
       "    cancel.onclick = () => {\n",
       "      resolve(null);\n",
       "    };\n",
       "  });\n",
       "\n",
       "  // Wait for the user to pick the files.\n",
       "  const files = yield {\n",
       "    promise: Promise.race([pickedPromise, cancelPromise]),\n",
       "    response: {\n",
       "      action: 'starting',\n",
       "    }\n",
       "  };\n",
       "\n",
       "  cancel.remove();\n",
       "\n",
       "  // Disable the input element since further picks are not allowed.\n",
       "  inputElement.disabled = true;\n",
       "\n",
       "  if (!files) {\n",
       "    return {\n",
       "      response: {\n",
       "        action: 'complete',\n",
       "      }\n",
       "    };\n",
       "  }\n",
       "\n",
       "  for (const file of files) {\n",
       "    const li = document.createElement('li');\n",
       "    li.append(span(file.name, {fontWeight: 'bold'}));\n",
       "    li.append(span(\n",
       "        `(${file.type || 'n/a'}) - ${file.size} bytes, ` +\n",
       "        `last modified: ${\n",
       "            file.lastModifiedDate ? file.lastModifiedDate.toLocaleDateString() :\n",
       "                                    'n/a'} - `));\n",
       "    const percent = span('0% done');\n",
       "    li.appendChild(percent);\n",
       "\n",
       "    outputElement.appendChild(li);\n",
       "\n",
       "    const fileDataPromise = new Promise((resolve) => {\n",
       "      const reader = new FileReader();\n",
       "      reader.onload = (e) => {\n",
       "        resolve(e.target.result);\n",
       "      };\n",
       "      reader.readAsArrayBuffer(file);\n",
       "    });\n",
       "    // Wait for the data to be ready.\n",
       "    let fileData = yield {\n",
       "      promise: fileDataPromise,\n",
       "      response: {\n",
       "        action: 'continue',\n",
       "      }\n",
       "    };\n",
       "\n",
       "    // Use a chunked sending to avoid message size limits. See b/62115660.\n",
       "    let position = 0;\n",
       "    do {\n",
       "      const length = Math.min(fileData.byteLength - position, MAX_PAYLOAD_SIZE);\n",
       "      const chunk = new Uint8Array(fileData, position, length);\n",
       "      position += length;\n",
       "\n",
       "      const base64 = btoa(String.fromCharCode.apply(null, chunk));\n",
       "      yield {\n",
       "        response: {\n",
       "          action: 'append',\n",
       "          file: file.name,\n",
       "          data: base64,\n",
       "        },\n",
       "      };\n",
       "\n",
       "      let percentDone = fileData.byteLength === 0 ?\n",
       "          100 :\n",
       "          Math.round((position / fileData.byteLength) * 100);\n",
       "      percent.textContent = `${percentDone}% done`;\n",
       "\n",
       "    } while (position < fileData.byteLength);\n",
       "  }\n",
       "\n",
       "  // All done.\n",
       "  yield {\n",
       "    response: {\n",
       "      action: 'complete',\n",
       "    }\n",
       "  };\n",
       "}\n",
       "\n",
       "scope.google = scope.google || {};\n",
       "scope.google.colab = scope.google.colab || {};\n",
       "scope.google.colab._files = {\n",
       "  _uploadFiles,\n",
       "  _uploadFilesContinue,\n",
       "};\n",
       "})(self);\n",
       "</script> "
      ],
      "text/plain": [
       "<IPython.core.display.HTML object>"
      ]
     },
     "metadata": {},
     "output_type": "display_data"
    },
    {
     "name": "stdout",
     "output_type": "stream",
     "text": [
      "Saving ALL_DATA_Marc93.csv to ALL_DATA_Marc93 (3).csv\n"
     ]
    },
    {
     "data": {
      "text/html": [
       "\n",
       "  <div id=\"df-f548684e-ac16-40f9-85c9-55c594b1a3a5\">\n",
       "    <div class=\"colab-df-container\">\n",
       "      <div>\n",
       "<style scoped>\n",
       "    .dataframe tbody tr th:only-of-type {\n",
       "        vertical-align: middle;\n",
       "    }\n",
       "\n",
       "    .dataframe tbody tr th {\n",
       "        vertical-align: top;\n",
       "    }\n",
       "\n",
       "    .dataframe thead th {\n",
       "        text-align: right;\n",
       "    }\n",
       "</style>\n",
       "<table border=\"1\" class=\"dataframe\">\n",
       "  <thead>\n",
       "    <tr style=\"text-align: right;\">\n",
       "      <th></th>\n",
       "      <th>Date</th>\n",
       "      <th>CPI</th>\n",
       "      <th>SPY</th>\n",
       "      <th>DGS6MO</th>\n",
       "      <th>UNRATE</th>\n",
       "      <th>G17</th>\n",
       "    </tr>\n",
       "  </thead>\n",
       "  <tbody>\n",
       "    <tr>\n",
       "      <th>0</th>\n",
       "      <td>1-Mar-1993</td>\n",
       "      <td>143.3</td>\n",
       "      <td>0.017593</td>\n",
       "      <td>3.145652</td>\n",
       "      <td>7.0</td>\n",
       "      <td>65.0176</td>\n",
       "    </tr>\n",
       "    <tr>\n",
       "      <th>1</th>\n",
       "      <td>1-Apr-1993</td>\n",
       "      <td>143.8</td>\n",
       "      <td>-0.020986</td>\n",
       "      <td>3.062857</td>\n",
       "      <td>7.1</td>\n",
       "      <td>65.2041</td>\n",
       "    </tr>\n",
       "    <tr>\n",
       "      <th>2</th>\n",
       "      <td>1-May-1993</td>\n",
       "      <td>144.2</td>\n",
       "      <td>0.026970</td>\n",
       "      <td>3.165500</td>\n",
       "      <td>7.1</td>\n",
       "      <td>64.9433</td>\n",
       "    </tr>\n",
       "    <tr>\n",
       "      <th>3</th>\n",
       "      <td>1-Jun-1993</td>\n",
       "      <td>144.3</td>\n",
       "      <td>-0.003455</td>\n",
       "      <td>3.294545</td>\n",
       "      <td>7.0</td>\n",
       "      <td>65.0984</td>\n",
       "    </tr>\n",
       "    <tr>\n",
       "      <th>4</th>\n",
       "      <td>1-Jul-1993</td>\n",
       "      <td>144.5</td>\n",
       "      <td>0.002199</td>\n",
       "      <td>3.257619</td>\n",
       "      <td>6.9</td>\n",
       "      <td>65.2554</td>\n",
       "    </tr>\n",
       "  </tbody>\n",
       "</table>\n",
       "</div>\n",
       "      <button class=\"colab-df-convert\" onclick=\"convertToInteractive('df-f548684e-ac16-40f9-85c9-55c594b1a3a5')\"\n",
       "              title=\"Convert this dataframe to an interactive table.\"\n",
       "              style=\"display:none;\">\n",
       "        \n",
       "  <svg xmlns=\"http://www.w3.org/2000/svg\" height=\"24px\"viewBox=\"0 0 24 24\"\n",
       "       width=\"24px\">\n",
       "    <path d=\"M0 0h24v24H0V0z\" fill=\"none\"/>\n",
       "    <path d=\"M18.56 5.44l.94 2.06.94-2.06 2.06-.94-2.06-.94-.94-2.06-.94 2.06-2.06.94zm-11 1L8.5 8.5l.94-2.06 2.06-.94-2.06-.94L8.5 2.5l-.94 2.06-2.06.94zm10 10l.94 2.06.94-2.06 2.06-.94-2.06-.94-.94-2.06-.94 2.06-2.06.94z\"/><path d=\"M17.41 7.96l-1.37-1.37c-.4-.4-.92-.59-1.43-.59-.52 0-1.04.2-1.43.59L10.3 9.45l-7.72 7.72c-.78.78-.78 2.05 0 2.83L4 21.41c.39.39.9.59 1.41.59.51 0 1.02-.2 1.41-.59l7.78-7.78 2.81-2.81c.8-.78.8-2.07 0-2.86zM5.41 20L4 18.59l7.72-7.72 1.47 1.35L5.41 20z\"/>\n",
       "  </svg>\n",
       "      </button>\n",
       "      \n",
       "  <style>\n",
       "    .colab-df-container {\n",
       "      display:flex;\n",
       "      flex-wrap:wrap;\n",
       "      gap: 12px;\n",
       "    }\n",
       "\n",
       "    .colab-df-convert {\n",
       "      background-color: #E8F0FE;\n",
       "      border: none;\n",
       "      border-radius: 50%;\n",
       "      cursor: pointer;\n",
       "      display: none;\n",
       "      fill: #1967D2;\n",
       "      height: 32px;\n",
       "      padding: 0 0 0 0;\n",
       "      width: 32px;\n",
       "    }\n",
       "\n",
       "    .colab-df-convert:hover {\n",
       "      background-color: #E2EBFA;\n",
       "      box-shadow: 0px 1px 2px rgba(60, 64, 67, 0.3), 0px 1px 3px 1px rgba(60, 64, 67, 0.15);\n",
       "      fill: #174EA6;\n",
       "    }\n",
       "\n",
       "    [theme=dark] .colab-df-convert {\n",
       "      background-color: #3B4455;\n",
       "      fill: #D2E3FC;\n",
       "    }\n",
       "\n",
       "    [theme=dark] .colab-df-convert:hover {\n",
       "      background-color: #434B5C;\n",
       "      box-shadow: 0px 1px 3px 1px rgba(0, 0, 0, 0.15);\n",
       "      filter: drop-shadow(0px 1px 2px rgba(0, 0, 0, 0.3));\n",
       "      fill: #FFFFFF;\n",
       "    }\n",
       "  </style>\n",
       "\n",
       "      <script>\n",
       "        const buttonEl =\n",
       "          document.querySelector('#df-f548684e-ac16-40f9-85c9-55c594b1a3a5 button.colab-df-convert');\n",
       "        buttonEl.style.display =\n",
       "          google.colab.kernel.accessAllowed ? 'block' : 'none';\n",
       "\n",
       "        async function convertToInteractive(key) {\n",
       "          const element = document.querySelector('#df-f548684e-ac16-40f9-85c9-55c594b1a3a5');\n",
       "          const dataTable =\n",
       "            await google.colab.kernel.invokeFunction('convertToInteractive',\n",
       "                                                     [key], {});\n",
       "          if (!dataTable) return;\n",
       "\n",
       "          const docLinkHtml = 'Like what you see? Visit the ' +\n",
       "            '<a target=\"_blank\" href=https://colab.research.google.com/notebooks/data_table.ipynb>data table notebook</a>'\n",
       "            + ' to learn more about interactive tables.';\n",
       "          element.innerHTML = '';\n",
       "          dataTable['output_type'] = 'display_data';\n",
       "          await google.colab.output.renderOutput(dataTable, element);\n",
       "          const docLink = document.createElement('div');\n",
       "          docLink.innerHTML = docLinkHtml;\n",
       "          element.appendChild(docLink);\n",
       "        }\n",
       "      </script>\n",
       "    </div>\n",
       "  </div>\n",
       "  "
      ],
      "text/plain": [
       "         Date    CPI       SPY    DGS6MO  UNRATE      G17\n",
       "0  1-Mar-1993  143.3  0.017593  3.145652     7.0  65.0176\n",
       "1  1-Apr-1993  143.8 -0.020986  3.062857     7.1  65.2041\n",
       "2  1-May-1993  144.2  0.026970  3.165500     7.1  64.9433\n",
       "3  1-Jun-1993  144.3 -0.003455  3.294545     7.0  65.0984\n",
       "4  1-Jul-1993  144.5  0.002199  3.257619     6.9  65.2554"
      ]
     },
     "execution_count": 3,
     "metadata": {},
     "output_type": "execute_result"
    }
   ],
   "source": [
    "# need to choose ALL_DATA_Marc93.csv file from computer\n",
    "from google.colab import files\n",
    "uploaded = files.upload()\n",
    "\n",
    "df = pd.read_csv('ALL_DATA_Marc93.csv')\n",
    "df.head()"
   ]
  },
  {
   "cell_type": "code",
   "execution_count": 4,
   "id": "2ab4b17f-bae0-4821-8f63-fd9b70ad1d94",
   "metadata": {
    "id": "CFeifivRXlXV"
   },
   "outputs": [],
   "source": [
    "# create input + output data\n",
    "X = np.array(df[['SPY','DGS6MO','UNRATE','G17']])\n",
    "y = np.array(df['CPI'])\n",
    "\n",
    "# 70 30 train test split\n",
    "X_train, X_test, y_train, y_test = train_test_split(X, y, test_size=0.3, random_state=0)"
   ]
  },
  {
   "cell_type": "markdown",
   "id": "47412032-68eb-4abf-b8b6-41bbb1853e38",
   "metadata": {
    "id": "hhyJ1a_mPo0F"
   },
   "source": [
    "# Designing the neural net\n",
    "\n",
    "Here we define the dataset and architecture of the neural network. We also define the hyperparameters for the neural network such as the epochs and learning rate. Altering these will affect the performance of the model in predicting the CPI. "
   ]
  },
  {
   "cell_type": "code",
   "execution_count": 5,
   "id": "a265096a-f031-43f1-b50e-134ec63a82bd",
   "metadata": {
    "id": "-tPpn88naUau"
   },
   "outputs": [],
   "source": [
    "class CPIDataset(Dataset):\n",
    "    \n",
    "    def __init__(self, X_data, y_data):\n",
    "      if not torch.is_tensor(X) and not torch.is_tensor(y):\n",
    "        X_data = MinMaxScaler().fit_transform(X_data) # need to normalize data to (0,1) before feeding to nerural net\n",
    "\n",
    "        # change to tensor \n",
    "        self.X_data = torch.from_numpy(X_data)\n",
    "        self.y_data = torch.from_numpy(y_data)\n",
    "        \n",
    "    def __getitem__(self, i):\n",
    "        return self.X_data[i], self.y_data[i]\n",
    "        \n",
    "    def __len__ (self):\n",
    "        return len(self.X_data)"
   ]
  },
  {
   "cell_type": "code",
   "execution_count": 6,
   "id": "c926cfaa-f0f9-41fb-9599-d88ec9653841",
   "metadata": {
    "id": "dObC6-Jl59FX"
   },
   "outputs": [],
   "source": [
    "# feedforward neural  net with 3 hidden layers and ReLU activation function\n",
    "class NeuralNetwork(nn.Module):\n",
    "    def __init__(self, num_features):\n",
    "        super(NeuralNetwork, self).__init__()\n",
    "        \n",
    "        # defining neural net architecture\n",
    "        self.layers = nn.Sequential(\n",
    "            nn.Linear(num_features,16),\n",
    "            nn.ReLU(),\n",
    "            nn.Linear(16,32),\n",
    "            nn.ReLU(),\n",
    "            nn.Linear(32,16),\n",
    "            nn.ReLU(),\n",
    "            nn.Linear(16,1)\n",
    "        )\n",
    "\n",
    "    def forward(self, x):\n",
    "        return self.layers(x)\n"
   ]
  },
  {
   "cell_type": "code",
   "execution_count": 24,
   "id": "813aee97-bfe2-4309-9a72-febfa38d64f7",
   "metadata": {
    "colab": {
     "base_uri": "https://localhost:8080/"
    },
    "id": "2z4me9aI7Tav",
    "outputId": "26a48545-cb74-4a12-fd1e-735190ac6f91"
   },
   "outputs": [
    {
     "name": "stdout",
     "output_type": "stream",
     "text": [
      "4\n",
      "NeuralNetwork(\n",
      "  (layers): Sequential(\n",
      "    (0): Linear(in_features=4, out_features=16, bias=True)\n",
      "    (1): ReLU()\n",
      "    (2): Linear(in_features=16, out_features=32, bias=True)\n",
      "    (3): ReLU()\n",
      "    (4): Linear(in_features=32, out_features=16, bias=True)\n",
      "    (5): ReLU()\n",
      "    (6): Linear(in_features=16, out_features=1, bias=True)\n",
      "  )\n",
      ")\n"
     ]
    }
   ],
   "source": [
    "# defining hyperparameters\n",
    "EPOCHS = 150\n",
    "BATCH_SIZE = 10\n",
    "LEARNING_RATE = 1e-3\n",
    "NUM_FEATURES = X_train.shape[1]\n",
    "\n",
    "print(NUM_FEATURES)\n",
    "\n",
    "# initialize dataset and Dataloader\n",
    "train_dataset = CPIDataset(X_train, y_train)\n",
    "test_dataset = CPIDataset(X_test, y_test)\n",
    "\n",
    "train_loader = DataLoader(dataset=train_dataset, batch_size=BATCH_SIZE, shuffle=True)\n",
    "test_loader = DataLoader(dataset=test_dataset, batch_size=1)\n",
    "\n",
    "# transfer model to GPU\n",
    "model = NeuralNetwork(NUM_FEATURES).to(device)\n",
    "print(model)\n",
    "\n",
    "loss_function = nn.MSELoss()\n",
    "optimizer = optim.Adam(model.parameters(), lr=LEARNING_RATE)"
   ]
  },
  {
   "cell_type": "markdown",
   "id": "0b89be5f-3d96-47c8-a781-9e60d5bad391",
   "metadata": {
    "id": "izyGW_jtQC5v"
   },
   "source": [
    "# Training the neural net"
   ]
  },
  {
   "cell_type": "code",
   "execution_count": 25,
   "id": "9d625e7f-9902-44e2-892e-6b96a93f9a93",
   "metadata": {
    "colab": {
     "base_uri": "https://localhost:8080/"
    },
    "id": "fMI9bBt6dDPh",
    "outputId": "35dd8a45-90a8-497d-c016-76d6fe1fc0c7"
   },
   "outputs": [
    {
     "name": "stdout",
     "output_type": "stream",
     "text": [
      "Begin training.\n",
      "Epoch 000: | Train Loss: 45321.88625\n",
      "Epoch 001: | Train Loss: 45189.48766\n",
      "Epoch 002: | Train Loss: 44913.76969\n",
      "Epoch 003: | Train Loss: 44162.71203\n",
      "Epoch 004: | Train Loss: 42286.03656\n",
      "Epoch 005: | Train Loss: 38355.98961\n",
      "Epoch 006: | Train Loss: 31420.02328\n",
      "Epoch 007: | Train Loss: 21507.19105\n",
      "Epoch 008: | Train Loss: 10933.49478\n",
      "Epoch 009: | Train Loss: 3818.76454\n",
      "Epoch 010: | Train Loss: 1717.72890\n",
      "Epoch 011: | Train Loss: 1491.53751\n",
      "Epoch 012: | Train Loss: 1404.30174\n",
      "Epoch 013: | Train Loss: 1328.59616\n",
      "Epoch 014: | Train Loss: 1260.09886\n",
      "Epoch 015: | Train Loss: 1198.52856\n",
      "Epoch 016: | Train Loss: 1138.13942\n",
      "Epoch 017: | Train Loss: 1080.57802\n",
      "Epoch 018: | Train Loss: 1032.00737\n",
      "Epoch 019: | Train Loss: 983.61669\n",
      "Epoch 020: | Train Loss: 936.15747\n",
      "Epoch 021: | Train Loss: 894.94928\n",
      "Epoch 022: | Train Loss: 857.35738\n",
      "Epoch 023: | Train Loss: 822.51232\n",
      "Epoch 024: | Train Loss: 790.95770\n",
      "Epoch 025: | Train Loss: 766.93762\n",
      "Epoch 026: | Train Loss: 730.60542\n",
      "Epoch 027: | Train Loss: 709.66185\n",
      "Epoch 028: | Train Loss: 683.25413\n",
      "Epoch 029: | Train Loss: 664.74213\n",
      "Epoch 030: | Train Loss: 642.83881\n",
      "Epoch 031: | Train Loss: 625.22443\n",
      "Epoch 032: | Train Loss: 610.28937\n",
      "Epoch 033: | Train Loss: 596.01120\n",
      "Epoch 034: | Train Loss: 580.57118\n",
      "Epoch 035: | Train Loss: 583.02771\n",
      "Epoch 036: | Train Loss: 563.53233\n",
      "Epoch 037: | Train Loss: 553.01779\n",
      "Epoch 038: | Train Loss: 538.97017\n",
      "Epoch 039: | Train Loss: 530.50162\n",
      "Epoch 040: | Train Loss: 525.72447\n",
      "Epoch 041: | Train Loss: 517.08191\n",
      "Epoch 042: | Train Loss: 510.18972\n",
      "Epoch 043: | Train Loss: 504.45794\n",
      "Epoch 044: | Train Loss: 500.03715\n",
      "Epoch 045: | Train Loss: 496.59131\n",
      "Epoch 046: | Train Loss: 491.77808\n",
      "Epoch 047: | Train Loss: 485.18228\n",
      "Epoch 048: | Train Loss: 483.12499\n",
      "Epoch 049: | Train Loss: 478.51712\n",
      "Epoch 050: | Train Loss: 474.66317\n",
      "Epoch 051: | Train Loss: 470.84683\n",
      "Epoch 052: | Train Loss: 467.23257\n",
      "Epoch 053: | Train Loss: 463.67105\n",
      "Epoch 054: | Train Loss: 459.92188\n",
      "Epoch 055: | Train Loss: 465.17364\n",
      "Epoch 056: | Train Loss: 457.97734\n",
      "Epoch 057: | Train Loss: 451.98964\n",
      "Epoch 058: | Train Loss: 447.74667\n",
      "Epoch 059: | Train Loss: 444.74778\n",
      "Epoch 060: | Train Loss: 443.11453\n",
      "Epoch 061: | Train Loss: 439.25238\n",
      "Epoch 062: | Train Loss: 436.13837\n",
      "Epoch 063: | Train Loss: 432.47121\n",
      "Epoch 064: | Train Loss: 429.30521\n",
      "Epoch 065: | Train Loss: 426.79968\n",
      "Epoch 066: | Train Loss: 426.64403\n",
      "Epoch 067: | Train Loss: 422.86578\n",
      "Epoch 068: | Train Loss: 419.16001\n",
      "Epoch 069: | Train Loss: 421.63697\n",
      "Epoch 070: | Train Loss: 416.09080\n",
      "Epoch 071: | Train Loss: 411.40621\n",
      "Epoch 072: | Train Loss: 409.35409\n",
      "Epoch 073: | Train Loss: 414.73203\n",
      "Epoch 074: | Train Loss: 410.19025\n",
      "Epoch 075: | Train Loss: 403.57056\n",
      "Epoch 076: | Train Loss: 398.80232\n",
      "Epoch 077: | Train Loss: 398.54152\n",
      "Epoch 078: | Train Loss: 403.64752\n",
      "Epoch 079: | Train Loss: 394.83939\n",
      "Epoch 080: | Train Loss: 392.06406\n",
      "Epoch 081: | Train Loss: 389.42631\n",
      "Epoch 082: | Train Loss: 389.53184\n",
      "Epoch 083: | Train Loss: 386.25633\n",
      "Epoch 084: | Train Loss: 386.92946\n",
      "Epoch 085: | Train Loss: 382.13193\n",
      "Epoch 086: | Train Loss: 383.94720\n",
      "Epoch 087: | Train Loss: 385.68405\n",
      "Epoch 088: | Train Loss: 381.06364\n",
      "Epoch 089: | Train Loss: 380.42875\n",
      "Epoch 090: | Train Loss: 376.94523\n",
      "Epoch 091: | Train Loss: 378.21295\n",
      "Epoch 092: | Train Loss: 379.88263\n",
      "Epoch 093: | Train Loss: 376.39895\n",
      "Epoch 094: | Train Loss: 374.92730\n",
      "Epoch 095: | Train Loss: 371.82047\n",
      "Epoch 096: | Train Loss: 373.37274\n",
      "Epoch 097: | Train Loss: 374.89147\n",
      "Epoch 098: | Train Loss: 377.27027\n",
      "Epoch 099: | Train Loss: 374.99382\n",
      "Epoch 100: | Train Loss: 373.52797\n",
      "Epoch 101: | Train Loss: 373.79179\n",
      "Epoch 102: | Train Loss: 368.38472\n",
      "Epoch 103: | Train Loss: 365.57836\n",
      "Epoch 104: | Train Loss: 364.49500\n",
      "Epoch 105: | Train Loss: 361.10776\n",
      "Epoch 106: | Train Loss: 360.43087\n",
      "Epoch 107: | Train Loss: 360.25521\n",
      "Epoch 108: | Train Loss: 362.59690\n",
      "Epoch 109: | Train Loss: 361.91598\n",
      "Epoch 110: | Train Loss: 366.49406\n",
      "Epoch 111: | Train Loss: 365.93390\n",
      "Epoch 112: | Train Loss: 356.08037\n",
      "Epoch 113: | Train Loss: 359.48202\n",
      "Epoch 114: | Train Loss: 362.28447\n",
      "Epoch 115: | Train Loss: 352.77344\n",
      "Epoch 116: | Train Loss: 350.85735\n",
      "Epoch 117: | Train Loss: 352.20368\n",
      "Epoch 118: | Train Loss: 349.36569\n",
      "Epoch 119: | Train Loss: 348.58051\n",
      "Epoch 120: | Train Loss: 348.03699\n",
      "Epoch 121: | Train Loss: 346.10081\n",
      "Epoch 122: | Train Loss: 348.30235\n",
      "Epoch 123: | Train Loss: 346.47575\n",
      "Epoch 124: | Train Loss: 343.46529\n",
      "Epoch 125: | Train Loss: 344.29441\n",
      "Epoch 126: | Train Loss: 342.62250\n",
      "Epoch 127: | Train Loss: 346.29421\n",
      "Epoch 128: | Train Loss: 339.14134\n",
      "Epoch 129: | Train Loss: 333.15355\n",
      "Epoch 130: | Train Loss: 338.22442\n",
      "Epoch 131: | Train Loss: 335.61181\n",
      "Epoch 132: | Train Loss: 331.29074\n",
      "Epoch 133: | Train Loss: 330.57418\n",
      "Epoch 134: | Train Loss: 333.34203\n",
      "Epoch 135: | Train Loss: 327.27770\n",
      "Epoch 136: | Train Loss: 326.41601\n",
      "Epoch 137: | Train Loss: 339.93903\n",
      "Epoch 138: | Train Loss: 325.85807\n",
      "Epoch 139: | Train Loss: 323.76857\n",
      "Epoch 140: | Train Loss: 322.47280\n",
      "Epoch 141: | Train Loss: 321.15126\n",
      "Epoch 142: | Train Loss: 317.57234\n",
      "Epoch 143: | Train Loss: 316.91305\n",
      "Epoch 144: | Train Loss: 313.96344\n",
      "Epoch 145: | Train Loss: 313.99449\n",
      "Epoch 146: | Train Loss: 312.97306\n",
      "Epoch 147: | Train Loss: 310.56259\n",
      "Epoch 148: | Train Loss: 314.59117\n",
      "Epoch 149: | Train Loss: 310.85296\n",
      "Training process has finished.\n"
     ]
    }
   ],
   "source": [
    "loss_stats = []\n",
    "\n",
    "print(\"Begin training.\")\n",
    "\n",
    "for e in range(0, EPOCHS):\n",
    "  curr_loss = 0\n",
    "  model.train()\n",
    "  for input, target in train_loader:\n",
    "\n",
    "    input, target = input.to(device), target.to(device)\n",
    "\n",
    "    #reset gradients to 0 per mini-batch\n",
    "    optimizer.zero_grad()\n",
    "\n",
    "    output = model(input.float())\n",
    "    train_loss = loss_function(output, target.float().unsqueeze(1))\n",
    "\n",
    "    # compute the gradient and update the network parameters\n",
    "    train_loss.backward()\n",
    "    optimizer.step()\n",
    "\n",
    "    curr_loss += train_loss.item()\n",
    "\n",
    "  loss_stats.append(curr_loss/len(train_loader))#calculate average loss for each eopch\n",
    "  print(f'Epoch {e+0:03}: | Train Loss: {curr_loss/len(train_loader):.5f}')\n",
    "\n",
    "print('Training process has finished.')"
   ]
  },
  {
   "cell_type": "code",
   "execution_count": 26,
   "id": "70680ae8-2ba6-4dbd-ba93-ab702708d5ec",
   "metadata": {
    "colab": {
     "base_uri": "https://localhost:8080/",
     "height": 530
    },
    "id": "qm1pGprwhr0i",
    "outputId": "26bd51e8-97c1-400b-ad0a-ee42fb039b56"
   },
   "outputs": [
    {
     "data": {
      "text/plain": [
       "Text(0.5, 1.0, 'Train Loss/Epoch')"
      ]
     },
     "execution_count": 26,
     "metadata": {},
     "output_type": "execute_result"
    },
    {
     "data": {
      "image/png": "[encoded data removed]",
      "text/plain": [
       "<Figure size 1080x576 with 1 Axes>"
      ]
     },
     "metadata": {
      "needs_background": "light"
     },
     "output_type": "display_data"
    }
   ],
   "source": [
    "# plotting training loss\n",
    "train_val_loss_df = pd.DataFrame(loss_stats).reset_index().melt(id_vars=['index']).rename(columns={\"index\":\"epochs\"})\n",
    "plt.figure(figsize=(15,8))\n",
    "sns.lineplot(data=train_val_loss_df, x = \"epochs\", y=\"value\").set_title('Train Loss/Epoch')"
   ]
  },
  {
   "cell_type": "markdown",
   "id": "f5b85f0c-2a47-4fa4-a843-cf44944b8638",
   "metadata": {
    "id": "XXSwFHEKQOWN"
   },
   "source": [
    "# Testing the neural net\n",
    "\n",
    "We use mean square error (MSE) as the testing accuracy metric. This will tell us how well the neural network performed in predicting the CPI. "
   ]
  },
  {
   "cell_type": "code",
   "execution_count": 27,
   "id": "5d9cb4da-bac1-49cf-b806-35a894cd3f55",
   "metadata": {
    "id": "DSoGHRY_iW--"
   },
   "outputs": [],
   "source": [
    "y_pred = []\n",
    "\n",
    "# using test data to get predicted CPI values\n",
    "with torch.no_grad(): #don't want to use backpropogation here\n",
    "    model.eval()\n",
    "    for X_batch, _ in test_loader:\n",
    "        X_batch = X_batch.to(device)\n",
    "        X_batch = X_batch.float()\n",
    "        y_test_pred = model(X_batch).cpu().detach().numpy().reshape(-1)\n",
    "        y_pred.append(y_test_pred)\n",
    "\n",
    "y_pred = [a.squeeze().tolist() for a in y_pred]"
   ]
  },
  {
   "cell_type": "code",
   "execution_count": 28,
   "id": "e25a3ad7-da9d-411c-b511-55b5266962e6",
   "metadata": {
    "colab": {
     "base_uri": "https://localhost:8080/"
    },
    "id": "G7_P38I_igO_",
    "outputId": "7cb81afa-799b-4e24-f10e-b81494f7353f"
   },
   "outputs": [
    {
     "name": "stdout",
     "output_type": "stream",
     "text": [
      "MSE = 297.10388699733295\n"
     ]
    }
   ],
   "source": [
    "# calculcating MSE for accuracy metric\n",
    "mse = mean_squared_error(y_test, y_pred)\n",
    "print(\"MSE =\", mse)"
   ]
  },
  {
   "cell_type": "markdown",
   "id": "e630cab0-203a-4752-98f7-b5c5c0b32c9c",
   "metadata": {
    "id": "rIW_uQiTQf3x"
   },
   "source": [
    "We also plot a comparison between the actual and predicted CPI's for a visual on the neural net's performance."
   ]
  },
  {
   "cell_type": "code",
   "execution_count": 29,
   "id": "7e2762f1-6e87-4521-8097-f1d047325676",
   "metadata": {
    "colab": {
     "base_uri": "https://localhost:8080/",
     "height": 281
    },
    "id": "C7i-Gt2NowAi",
    "outputId": "a090db28-97dd-4e79-c035-c0b426d9ce4b"
   },
   "outputs": [
    {
     "data": {
      "image/png": "[encoded data removed]",
      "text/plain": [
       "<Figure size 432x288 with 1 Axes>"
      ]
     },
     "metadata": {
      "needs_background": "light"
     },
     "output_type": "display_data"
    }
   ],
   "source": [
    "plt.plot(y_test, color = 'blue', label = 'actual') \n",
    "plt.plot(y_pred, color = 'red', label = 'predict') \n",
    "plt.title('Test Results')\n",
    "plt.legend()\n",
    "plt.show()"
   ]
  }
 ],
 "metadata": {
  "kernelspec": {
   "display_name": "Python 3 (ipykernel)",
   "language": "python",
   "name": "python3"
  },
  "language_info": {
   "codemirror_mode": {
    "name": "ipython",
    "version": 3
   },
   "file_extension": ".py",
   "mimetype": "text/x-python",
   "name": "python",
   "nbconvert_exporter": "python",
   "pygments_lexer": "ipython3",
   "version": "3.9.0"
  }
 },
 "nbformat": 4,
 "nbformat_minor": 5
}
