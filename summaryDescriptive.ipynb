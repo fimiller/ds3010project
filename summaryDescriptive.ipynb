{
 "cells": [
  {
   "cell_type": "code",
   "execution_count": 1,
   "id": "72dc14b0-650f-40a0-8481-afcd1f939d2d",
   "metadata": {},
   "outputs": [],
   "source": [
    "import pandas as pd \n",
    "df = pd.read_csv('ALL_DATA_Marc93.csv')"
   ]
  },
  {
   "cell_type": "code",
   "execution_count": 6,
   "id": "b736f75c-da57-4b38-9b58-eacf39c96c81",
   "metadata": {},
   "outputs": [
    {
     "name": "stdout",
     "output_type": "stream",
     "text": [
      "Collecting tabulate\n",
      "  Downloading tabulate-0.9.0-py3-none-any.whl (35 kB)\n",
      "Installing collected packages: tabulate\n",
      "Successfully installed tabulate-0.9.0\n",
      "Note: you may need to restart the kernel to use updated packages.\n"
     ]
    },
    {
     "name": "stderr",
     "output_type": "stream",
     "text": [
      "WARNING: You are using pip version 22.0.4; however, version 23.0 is available.\n",
      "You should consider upgrading via the 'c:\\users\\forre\\appdata\\local\\programs\\python\\python38\\python.exe -m pip install --upgrade pip' command.\n"
     ]
    }
   ],
   "source": [
    "%pip install tabulate"
   ]
  },
  {
   "cell_type": "code",
   "execution_count": 7,
   "id": "c7811d79-2f3e-4c6c-bc87-8151d9324a5d",
   "metadata": {},
   "outputs": [
    {
     "name": "stdout",
     "output_type": "stream",
     "text": [
      "+-------+----------+--------------+------------+-----------+----------+\n",
      "|       |      CPI |          SPY |     DGS6MO |    UNRATE |      G17 |\n",
      "|-------+----------+--------------+------------+-----------+----------|\n",
      "| count | 358      | 358          | 358        | 358       | 358      |\n",
      "| mean  | 207.747  |   0.00855033 |   2.43011  |   5.73855 |  92.3598 |\n",
      "| std   |  39.4858 |   0.0438699  |   2.15218  |   1.78089 |  10.2155 |\n",
      "| min   | 143.3    |  -0.160354   |   0.0355   |   3.5     |  64.9433 |\n",
      "| 25%   | 172.925  |  -0.0156623  |   0.202143 |   4.5     |  88.4701 |\n",
      "| 50%   | 211.689  |   0.0138781  |   1.87859  |   5.4     |  94.9612 |\n",
      "| 75%   | 237.498  |   0.036915   |   4.75186  |   6.3     | 100.097  |\n",
      "| max   | 298.349  |   0.133611   |   6.506    |  14.7     | 104.829  |\n",
      "+-------+----------+--------------+------------+-----------+----------+\n"
     ]
    }
   ],
   "source": [
    "from tabulate import tabulate\n",
    "print(tabulate(df.describe(), headers='keys', tablefmt='psql'))"
   ]
  },
  {
   "cell_type": "code",
   "execution_count": 3,
   "id": "2b409d6c-d54a-416c-9b66-3b6e8304ee35",
   "metadata": {},
   "outputs": [
    {
     "data": {
      "text/html": [
       "<div>\n",
       "<style scoped>\n",
       "    .dataframe tbody tr th:only-of-type {\n",
       "        vertical-align: middle;\n",
       "    }\n",
       "\n",
       "    .dataframe tbody tr th {\n",
       "        vertical-align: top;\n",
       "    }\n",
       "\n",
       "    .dataframe thead th {\n",
       "        text-align: right;\n",
       "    }\n",
       "</style>\n",
       "<table border=\"1\" class=\"dataframe\">\n",
       "  <thead>\n",
       "    <tr style=\"text-align: right;\">\n",
       "      <th></th>\n",
       "      <th>Date</th>\n",
       "      <th>CPI</th>\n",
       "      <th>SPY</th>\n",
       "      <th>DGS6MO</th>\n",
       "      <th>UNRATE</th>\n",
       "      <th>G17</th>\n",
       "    </tr>\n",
       "  </thead>\n",
       "  <tbody>\n",
       "    <tr>\n",
       "      <th>0</th>\n",
       "      <td>1-Mar-1993</td>\n",
       "      <td>143.3</td>\n",
       "      <td>0.017593</td>\n",
       "      <td>3.145652</td>\n",
       "      <td>7.0</td>\n",
       "      <td>65.0176</td>\n",
       "    </tr>\n",
       "    <tr>\n",
       "      <th>1</th>\n",
       "      <td>1-Apr-1993</td>\n",
       "      <td>143.8</td>\n",
       "      <td>-0.020986</td>\n",
       "      <td>3.062857</td>\n",
       "      <td>7.1</td>\n",
       "      <td>65.2041</td>\n",
       "    </tr>\n",
       "    <tr>\n",
       "      <th>2</th>\n",
       "      <td>1-May-1993</td>\n",
       "      <td>144.2</td>\n",
       "      <td>0.026970</td>\n",
       "      <td>3.165500</td>\n",
       "      <td>7.1</td>\n",
       "      <td>64.9433</td>\n",
       "    </tr>\n",
       "    <tr>\n",
       "      <th>3</th>\n",
       "      <td>1-Jun-1993</td>\n",
       "      <td>144.3</td>\n",
       "      <td>-0.003455</td>\n",
       "      <td>3.294545</td>\n",
       "      <td>7.0</td>\n",
       "      <td>65.0984</td>\n",
       "    </tr>\n",
       "    <tr>\n",
       "      <th>4</th>\n",
       "      <td>1-Jul-1993</td>\n",
       "      <td>144.5</td>\n",
       "      <td>0.002199</td>\n",
       "      <td>3.257619</td>\n",
       "      <td>6.9</td>\n",
       "      <td>65.2554</td>\n",
       "    </tr>\n",
       "  </tbody>\n",
       "</table>\n",
       "</div>"
      ],
      "text/plain": [
       "         Date    CPI       SPY    DGS6MO  UNRATE      G17\n",
       "0  1-Mar-1993  143.3  0.017593  3.145652     7.0  65.0176\n",
       "1  1-Apr-1993  143.8 -0.020986  3.062857     7.1  65.2041\n",
       "2  1-May-1993  144.2  0.026970  3.165500     7.1  64.9433\n",
       "3  1-Jun-1993  144.3 -0.003455  3.294545     7.0  65.0984\n",
       "4  1-Jul-1993  144.5  0.002199  3.257619     6.9  65.2554"
      ]
     },
     "execution_count": 3,
     "metadata": {},
     "output_type": "execute_result"
    }
   ],
   "source": [
    "df.head()"
   ]
  },
  {
   "cell_type": "code",
   "execution_count": null,
   "id": "fa21a549-cf53-42ed-8828-aba869dfbcd7",
   "metadata": {},
   "outputs": [],
   "source": []
  }
 ],
 "metadata": {
  "kernelspec": {
   "display_name": "Python 3",
   "language": "python",
   "name": "python3"
  },
  "language_info": {
   "codemirror_mode": {
    "name": "ipython",
    "version": 3
   },
   "file_extension": ".py",
   "mimetype": "text/x-python",
   "name": "python",
   "nbconvert_exporter": "python",
   "pygments_lexer": "ipython3",
   "version": "3.8.2"
  }
 },
 "nbformat": 4,
 "nbformat_minor": 5
}
