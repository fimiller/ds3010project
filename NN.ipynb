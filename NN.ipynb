{
  "nbformat": 4,
  "nbformat_minor": 0,
  "metadata": {
    "colab": {
      "provenance": []
    },
    "kernelspec": {
      "name": "python3",
      "display_name": "Python 3"
    },
    "language_info": {
      "name": "python"
    },
    "accelerator": "GPU",
    "gpuClass": "standard"
  },
  "cells": [
    {
      "cell_type": "markdown",
      "source": [
        "# **Feedforward neural network**\n",
        "\n",
        "This notebook will describe the process of training and testing a neural network to predict the consumer price index."
      ],
      "metadata": {
        "id": "JAEocldVOnGE"
      }
    },
    {
      "cell_type": "code",
      "execution_count": 1,
      "metadata": {
        "id": "NsqAuxop5WAE"
      },
      "outputs": [],
      "source": [
        "import os\n",
        "import pandas as pd\n",
        "import numpy as np\n",
        "import matplotlib.pyplot as plt\n",
        "import seaborn as sns\n",
        "\n",
        "import torch\n",
        "from torch import nn\n",
        "import torch.optim as optim\n",
        "from torch.utils.data import Dataset, DataLoader\n",
        "from torchvision import datasets, transforms\n",
        "\n",
        "from sklearn.model_selection import train_test_split\n",
        "from sklearn.preprocessing import MinMaxScaler   \n",
        "from sklearn.metrics import mean_squared_error, accuracy_score"
      ]
    },
    {
      "cell_type": "markdown",
      "source": [
        "Must make sure that we are using GPU for efficient running of the following code"
      ],
      "metadata": {
        "id": "ogcAST40PBDu"
      }
    },
    {
      "cell_type": "code",
      "source": [
        "device = \"cuda\" if torch.cuda.is_available() else \"cpu\"\n",
        "print(f\"Using {device} device\")\n",
        "\n",
        "torch.manual_seed(1)"
      ],
      "metadata": {
        "id": "CM7KTf4c50p6",
        "colab": {
          "base_uri": "https://localhost:8080/"
        },
        "outputId": "a8583207-e441-4178-ba87-4b724ab8fe05"
      },
      "execution_count": 2,
      "outputs": [
        {
          "output_type": "stream",
          "name": "stdout",
          "text": [
            "Using cuda device\n"
          ]
        },
        {
          "output_type": "execute_result",
          "data": {
            "text/plain": [
              "<torch._C.Generator at 0x7fdaa1c28710>"
            ]
          },
          "metadata": {},
          "execution_count": 2
        }
      ]
    },
    {
      "cell_type": "markdown",
      "source": [
        "# Prepare the data for training\n",
        "\n",
        "Here we load the data and split the training and test datasets. As a group, we agreed to have a 70-30 train test split for each of our models. \n"
      ],
      "metadata": {
        "id": "goisOxU7PMDE"
      }
    },
    {
      "cell_type": "code",
      "source": [
        "# need to choose ALL_DATA_Marc93.csv file from computer\n",
        "from google.colab import files\n",
        "uploaded = files.upload()\n",
        "\n",
        "df = pd.read_csv('ALL_DATA_Marc93.csv')\n",
        "df.head()"
      ],
      "metadata": {
        "colab": {
          "base_uri": "https://localhost:8080/",
          "height": 262
        },
        "id": "dOFSrQmaV62Z",
        "outputId": "4ae3b08c-f2e7-4893-94f1-624eb715d053"
      },
      "execution_count": 3,
      "outputs": [
        {
          "output_type": "display_data",
          "data": {
            "text/plain": [
              "<IPython.core.display.HTML object>"
            ],
            "text/html": [
              "\n",
              "     <input type=\"file\" id=\"files-9179286a-a3ce-4423-9b76-7ad17d9ae57c\" name=\"files[]\" multiple disabled\n",
              "        style=\"border:none\" />\n",
              "     <output id=\"result-9179286a-a3ce-4423-9b76-7ad17d9ae57c\">\n",
              "      Upload widget is only available when the cell has been executed in the\n",
              "      current browser session. Please rerun this cell to enable.\n",
              "      </output>\n",
              "      <script>// Copyright 2017 Google LLC\n",
              "//\n",
              "// Licensed under the Apache License, Version 2.0 (the \"License\");\n",
              "// you may not use this file except in compliance with the License.\n",
              "// You may obtain a copy of the License at\n",
              "//\n",
              "//      http://www.apache.org/licenses/LICENSE-2.0\n",
              "//\n",
              "// Unless required by applicable law or agreed to in writing, software\n",
              "// distributed under the License is distributed on an \"AS IS\" BASIS,\n",
              "// WITHOUT WARRANTIES OR CONDITIONS OF ANY KIND, either express or implied.\n",
              "// See the License for the specific language governing permissions and\n",
              "// limitations under the License.\n",
              "\n",
              "/**\n",
              " * @fileoverview Helpers for google.colab Python module.\n",
              " */\n",
              "(function(scope) {\n",
              "function span(text, styleAttributes = {}) {\n",
              "  const element = document.createElement('span');\n",
              "  element.textContent = text;\n",
              "  for (const key of Object.keys(styleAttributes)) {\n",
              "    element.style[key] = styleAttributes[key];\n",
              "  }\n",
              "  return element;\n",
              "}\n",
              "\n",
              "// Max number of bytes which will be uploaded at a time.\n",
              "const MAX_PAYLOAD_SIZE = 100 * 1024;\n",
              "\n",
              "function _uploadFiles(inputId, outputId) {\n",
              "  const steps = uploadFilesStep(inputId, outputId);\n",
              "  const outputElement = document.getElementById(outputId);\n",
              "  // Cache steps on the outputElement to make it available for the next call\n",
              "  // to uploadFilesContinue from Python.\n",
              "  outputElement.steps = steps;\n",
              "\n",
              "  return _uploadFilesContinue(outputId);\n",
              "}\n",
              "\n",
              "// This is roughly an async generator (not supported in the browser yet),\n",
              "// where there are multiple asynchronous steps and the Python side is going\n",
              "// to poll for completion of each step.\n",
              "// This uses a Promise to block the python side on completion of each step,\n",
              "// then passes the result of the previous step as the input to the next step.\n",
              "function _uploadFilesContinue(outputId) {\n",
              "  const outputElement = document.getElementById(outputId);\n",
              "  const steps = outputElement.steps;\n",
              "\n",
              "  const next = steps.next(outputElement.lastPromiseValue);\n",
              "  return Promise.resolve(next.value.promise).then((value) => {\n",
              "    // Cache the last promise value to make it available to the next\n",
              "    // step of the generator.\n",
              "    outputElement.lastPromiseValue = value;\n",
              "    return next.value.response;\n",
              "  });\n",
              "}\n",
              "\n",
              "/**\n",
              " * Generator function which is called between each async step of the upload\n",
              " * process.\n",
              " * @param {string} inputId Element ID of the input file picker element.\n",
              " * @param {string} outputId Element ID of the output display.\n",
              " * @return {!Iterable<!Object>} Iterable of next steps.\n",
              " */\n",
              "function* uploadFilesStep(inputId, outputId) {\n",
              "  const inputElement = document.getElementById(inputId);\n",
              "  inputElement.disabled = false;\n",
              "\n",
              "  const outputElement = document.getElementById(outputId);\n",
              "  outputElement.innerHTML = '';\n",
              "\n",
              "  const pickedPromise = new Promise((resolve) => {\n",
              "    inputElement.addEventListener('change', (e) => {\n",
              "      resolve(e.target.files);\n",
              "    });\n",
              "  });\n",
              "\n",
              "  const cancel = document.createElement('button');\n",
              "  inputElement.parentElement.appendChild(cancel);\n",
              "  cancel.textContent = 'Cancel upload';\n",
              "  const cancelPromise = new Promise((resolve) => {\n",
              "    cancel.onclick = () => {\n",
              "      resolve(null);\n",
              "    };\n",
              "  });\n",
              "\n",
              "  // Wait for the user to pick the files.\n",
              "  const files = yield {\n",
              "    promise: Promise.race([pickedPromise, cancelPromise]),\n",
              "    response: {\n",
              "      action: 'starting',\n",
              "    }\n",
              "  };\n",
              "\n",
              "  cancel.remove();\n",
              "\n",
              "  // Disable the input element since further picks are not allowed.\n",
              "  inputElement.disabled = true;\n",
              "\n",
              "  if (!files) {\n",
              "    return {\n",
              "      response: {\n",
              "        action: 'complete',\n",
              "      }\n",
              "    };\n",
              "  }\n",
              "\n",
              "  for (const file of files) {\n",
              "    const li = document.createElement('li');\n",
              "    li.append(span(file.name, {fontWeight: 'bold'}));\n",
              "    li.append(span(\n",
              "        `(${file.type || 'n/a'}) - ${file.size} bytes, ` +\n",
              "        `last modified: ${\n",
              "            file.lastModifiedDate ? file.lastModifiedDate.toLocaleDateString() :\n",
              "                                    'n/a'} - `));\n",
              "    const percent = span('0% done');\n",
              "    li.appendChild(percent);\n",
              "\n",
              "    outputElement.appendChild(li);\n",
              "\n",
              "    const fileDataPromise = new Promise((resolve) => {\n",
              "      const reader = new FileReader();\n",
              "      reader.onload = (e) => {\n",
              "        resolve(e.target.result);\n",
              "      };\n",
              "      reader.readAsArrayBuffer(file);\n",
              "    });\n",
              "    // Wait for the data to be ready.\n",
              "    let fileData = yield {\n",
              "      promise: fileDataPromise,\n",
              "      response: {\n",
              "        action: 'continue',\n",
              "      }\n",
              "    };\n",
              "\n",
              "    // Use a chunked sending to avoid message size limits. See b/62115660.\n",
              "    let position = 0;\n",
              "    do {\n",
              "      const length = Math.min(fileData.byteLength - position, MAX_PAYLOAD_SIZE);\n",
              "      const chunk = new Uint8Array(fileData, position, length);\n",
              "      position += length;\n",
              "\n",
              "      const base64 = btoa(String.fromCharCode.apply(null, chunk));\n",
              "      yield {\n",
              "        response: {\n",
              "          action: 'append',\n",
              "          file: file.name,\n",
              "          data: base64,\n",
              "        },\n",
              "      };\n",
              "\n",
              "      let percentDone = fileData.byteLength === 0 ?\n",
              "          100 :\n",
              "          Math.round((position / fileData.byteLength) * 100);\n",
              "      percent.textContent = `${percentDone}% done`;\n",
              "\n",
              "    } while (position < fileData.byteLength);\n",
              "  }\n",
              "\n",
              "  // All done.\n",
              "  yield {\n",
              "    response: {\n",
              "      action: 'complete',\n",
              "    }\n",
              "  };\n",
              "}\n",
              "\n",
              "scope.google = scope.google || {};\n",
              "scope.google.colab = scope.google.colab || {};\n",
              "scope.google.colab._files = {\n",
              "  _uploadFiles,\n",
              "  _uploadFilesContinue,\n",
              "};\n",
              "})(self);\n",
              "</script> "
            ]
          },
          "metadata": {}
        },
        {
          "output_type": "stream",
          "name": "stdout",
          "text": [
            "Saving ALL_DATA_Marc93.csv to ALL_DATA_Marc93 (3).csv\n"
          ]
        },
        {
          "output_type": "execute_result",
          "data": {
            "text/plain": [
              "         Date    CPI       SPY    DGS6MO  UNRATE      G17\n",
              "0  1-Mar-1993  143.3  0.017593  3.145652     7.0  65.0176\n",
              "1  1-Apr-1993  143.8 -0.020986  3.062857     7.1  65.2041\n",
              "2  1-May-1993  144.2  0.026970  3.165500     7.1  64.9433\n",
              "3  1-Jun-1993  144.3 -0.003455  3.294545     7.0  65.0984\n",
              "4  1-Jul-1993  144.5  0.002199  3.257619     6.9  65.2554"
            ],
            "text/html": [
              "\n",
              "  <div id=\"df-f548684e-ac16-40f9-85c9-55c594b1a3a5\">\n",
              "    <div class=\"colab-df-container\">\n",
              "      <div>\n",
              "<style scoped>\n",
              "    .dataframe tbody tr th:only-of-type {\n",
              "        vertical-align: middle;\n",
              "    }\n",
              "\n",
              "    .dataframe tbody tr th {\n",
              "        vertical-align: top;\n",
              "    }\n",
              "\n",
              "    .dataframe thead th {\n",
              "        text-align: right;\n",
              "    }\n",
              "</style>\n",
              "<table border=\"1\" class=\"dataframe\">\n",
              "  <thead>\n",
              "    <tr style=\"text-align: right;\">\n",
              "      <th></th>\n",
              "      <th>Date</th>\n",
              "      <th>CPI</th>\n",
              "      <th>SPY</th>\n",
              "      <th>DGS6MO</th>\n",
              "      <th>UNRATE</th>\n",
              "      <th>G17</th>\n",
              "    </tr>\n",
              "  </thead>\n",
              "  <tbody>\n",
              "    <tr>\n",
              "      <th>0</th>\n",
              "      <td>1-Mar-1993</td>\n",
              "      <td>143.3</td>\n",
              "      <td>0.017593</td>\n",
              "      <td>3.145652</td>\n",
              "      <td>7.0</td>\n",
              "      <td>65.0176</td>\n",
              "    </tr>\n",
              "    <tr>\n",
              "      <th>1</th>\n",
              "      <td>1-Apr-1993</td>\n",
              "      <td>143.8</td>\n",
              "      <td>-0.020986</td>\n",
              "      <td>3.062857</td>\n",
              "      <td>7.1</td>\n",
              "      <td>65.2041</td>\n",
              "    </tr>\n",
              "    <tr>\n",
              "      <th>2</th>\n",
              "      <td>1-May-1993</td>\n",
              "      <td>144.2</td>\n",
              "      <td>0.026970</td>\n",
              "      <td>3.165500</td>\n",
              "      <td>7.1</td>\n",
              "      <td>64.9433</td>\n",
              "    </tr>\n",
              "    <tr>\n",
              "      <th>3</th>\n",
              "      <td>1-Jun-1993</td>\n",
              "      <td>144.3</td>\n",
              "      <td>-0.003455</td>\n",
              "      <td>3.294545</td>\n",
              "      <td>7.0</td>\n",
              "      <td>65.0984</td>\n",
              "    </tr>\n",
              "    <tr>\n",
              "      <th>4</th>\n",
              "      <td>1-Jul-1993</td>\n",
              "      <td>144.5</td>\n",
              "      <td>0.002199</td>\n",
              "      <td>3.257619</td>\n",
              "      <td>6.9</td>\n",
              "      <td>65.2554</td>\n",
              "    </tr>\n",
              "  </tbody>\n",
              "</table>\n",
              "</div>\n",
              "      <button class=\"colab-df-convert\" onclick=\"convertToInteractive('df-f548684e-ac16-40f9-85c9-55c594b1a3a5')\"\n",
              "              title=\"Convert this dataframe to an interactive table.\"\n",
              "              style=\"display:none;\">\n",
              "        \n",
              "  <svg xmlns=\"http://www.w3.org/2000/svg\" height=\"24px\"viewBox=\"0 0 24 24\"\n",
              "       width=\"24px\">\n",
              "    <path d=\"M0 0h24v24H0V0z\" fill=\"none\"/>\n",
              "    <path d=\"M18.56 5.44l.94 2.06.94-2.06 2.06-.94-2.06-.94-.94-2.06-.94 2.06-2.06.94zm-11 1L8.5 8.5l.94-2.06 2.06-.94-2.06-.94L8.5 2.5l-.94 2.06-2.06.94zm10 10l.94 2.06.94-2.06 2.06-.94-2.06-.94-.94-2.06-.94 2.06-2.06.94z\"/><path d=\"M17.41 7.96l-1.37-1.37c-.4-.4-.92-.59-1.43-.59-.52 0-1.04.2-1.43.59L10.3 9.45l-7.72 7.72c-.78.78-.78 2.05 0 2.83L4 21.41c.39.39.9.59 1.41.59.51 0 1.02-.2 1.41-.59l7.78-7.78 2.81-2.81c.8-.78.8-2.07 0-2.86zM5.41 20L4 18.59l7.72-7.72 1.47 1.35L5.41 20z\"/>\n",
              "  </svg>\n",
              "      </button>\n",
              "      \n",
              "  <style>\n",
              "    .colab-df-container {\n",
              "      display:flex;\n",
              "      flex-wrap:wrap;\n",
              "      gap: 12px;\n",
              "    }\n",
              "\n",
              "    .colab-df-convert {\n",
              "      background-color: #E8F0FE;\n",
              "      border: none;\n",
              "      border-radius: 50%;\n",
              "      cursor: pointer;\n",
              "      display: none;\n",
              "      fill: #1967D2;\n",
              "      height: 32px;\n",
              "      padding: 0 0 0 0;\n",
              "      width: 32px;\n",
              "    }\n",
              "\n",
              "    .colab-df-convert:hover {\n",
              "      background-color: #E2EBFA;\n",
              "      box-shadow: 0px 1px 2px rgba(60, 64, 67, 0.3), 0px 1px 3px 1px rgba(60, 64, 67, 0.15);\n",
              "      fill: #174EA6;\n",
              "    }\n",
              "\n",
              "    [theme=dark] .colab-df-convert {\n",
              "      background-color: #3B4455;\n",
              "      fill: #D2E3FC;\n",
              "    }\n",
              "\n",
              "    [theme=dark] .colab-df-convert:hover {\n",
              "      background-color: #434B5C;\n",
              "      box-shadow: 0px 1px 3px 1px rgba(0, 0, 0, 0.15);\n",
              "      filter: drop-shadow(0px 1px 2px rgba(0, 0, 0, 0.3));\n",
              "      fill: #FFFFFF;\n",
              "    }\n",
              "  </style>\n",
              "\n",
              "      <script>\n",
              "        const buttonEl =\n",
              "          document.querySelector('#df-f548684e-ac16-40f9-85c9-55c594b1a3a5 button.colab-df-convert');\n",
              "        buttonEl.style.display =\n",
              "          google.colab.kernel.accessAllowed ? 'block' : 'none';\n",
              "\n",
              "        async function convertToInteractive(key) {\n",
              "          const element = document.querySelector('#df-f548684e-ac16-40f9-85c9-55c594b1a3a5');\n",
              "          const dataTable =\n",
              "            await google.colab.kernel.invokeFunction('convertToInteractive',\n",
              "                                                     [key], {});\n",
              "          if (!dataTable) return;\n",
              "\n",
              "          const docLinkHtml = 'Like what you see? Visit the ' +\n",
              "            '<a target=\"_blank\" href=https://colab.research.google.com/notebooks/data_table.ipynb>data table notebook</a>'\n",
              "            + ' to learn more about interactive tables.';\n",
              "          element.innerHTML = '';\n",
              "          dataTable['output_type'] = 'display_data';\n",
              "          await google.colab.output.renderOutput(dataTable, element);\n",
              "          const docLink = document.createElement('div');\n",
              "          docLink.innerHTML = docLinkHtml;\n",
              "          element.appendChild(docLink);\n",
              "        }\n",
              "      </script>\n",
              "    </div>\n",
              "  </div>\n",
              "  "
            ]
          },
          "metadata": {},
          "execution_count": 3
        }
      ]
    },
    {
      "cell_type": "code",
      "source": [
        "# create input + output data\n",
        "X = np.array(df[['SPY','DGS6MO','UNRATE','G17']])\n",
        "y = np.array(df['CPI'])\n",
        "\n",
        "# 70 30 train test split\n",
        "X_train, X_test, y_train, y_test = train_test_split(X, y, test_size=0.3, random_state=0)"
      ],
      "metadata": {
        "id": "CFeifivRXlXV"
      },
      "execution_count": 4,
      "outputs": []
    },
    {
      "cell_type": "markdown",
      "source": [
        "# Designing the neural net\n",
        "\n",
        "Here we define the dataset and architecture of the neural network. We also define the hyperparameters for the neural network such as the epochs and learning rate. Altering these will affect the performance of the model in predicting the CPI. "
      ],
      "metadata": {
        "id": "hhyJ1a_mPo0F"
      }
    },
    {
      "cell_type": "code",
      "source": [
        "class CPIDataset(Dataset):\n",
        "    \n",
        "    def __init__(self, X_data, y_data):\n",
        "      if not torch.is_tensor(X) and not torch.is_tensor(y):\n",
        "        X_data = MinMaxScaler().fit_transform(X_data) # need to normalize data to (0,1) before feeding to nerural net\n",
        "\n",
        "        # change to tensor \n",
        "        self.X_data = torch.from_numpy(X_data)\n",
        "        self.y_data = torch.from_numpy(y_data)\n",
        "        \n",
        "    def __getitem__(self, i):\n",
        "        return self.X_data[i], self.y_data[i]\n",
        "        \n",
        "    def __len__ (self):\n",
        "        return len(self.X_data)"
      ],
      "metadata": {
        "id": "-tPpn88naUau"
      },
      "execution_count": 5,
      "outputs": []
    },
    {
      "cell_type": "code",
      "source": [
        "# feedforward neural  net with 3 hidden layers and ReLU activation function\n",
        "class NeuralNetwork(nn.Module):\n",
        "    def __init__(self, num_features):\n",
        "        super(NeuralNetwork, self).__init__()\n",
        "        \n",
        "        # defining neural net architecture\n",
        "        self.layers = nn.Sequential(\n",
        "            nn.Linear(num_features,16),\n",
        "            nn.ReLU(),\n",
        "            nn.Linear(16,32),\n",
        "            nn.ReLU(),\n",
        "            nn.Linear(32,16),\n",
        "            nn.ReLU(),\n",
        "            nn.Linear(16,1)\n",
        "        )\n",
        "\n",
        "    def forward(self, x):\n",
        "        return self.layers(x)\n"
      ],
      "metadata": {
        "id": "dObC6-Jl59FX"
      },
      "execution_count": 6,
      "outputs": []
    },
    {
      "cell_type": "code",
      "source": [
        "# defining hyperparameters\n",
        "EPOCHS = 150\n",
        "BATCH_SIZE = 10\n",
        "LEARNING_RATE = 1e-3\n",
        "NUM_FEATURES = X_train.shape[1]\n",
        "\n",
        "print(NUM_FEATURES)\n",
        "\n",
        "# initialize dataset and Dataloader\n",
        "train_dataset = CPIDataset(X_train, y_train)\n",
        "test_dataset = CPIDataset(X_test, y_test)\n",
        "\n",
        "train_loader = DataLoader(dataset=train_dataset, batch_size=BATCH_SIZE, shuffle=True)\n",
        "test_loader = DataLoader(dataset=test_dataset, batch_size=1)\n",
        "\n",
        "# transfer model to GPU\n",
        "model = NeuralNetwork(NUM_FEATURES).to(device)\n",
        "print(model)\n",
        "\n",
        "loss_function = nn.MSELoss()\n",
        "optimizer = optim.Adam(model.parameters(), lr=LEARNING_RATE)"
      ],
      "metadata": {
        "id": "2z4me9aI7Tav",
        "colab": {
          "base_uri": "https://localhost:8080/"
        },
        "outputId": "26a48545-cb74-4a12-fd1e-735190ac6f91"
      },
      "execution_count": 24,
      "outputs": [
        {
          "output_type": "stream",
          "name": "stdout",
          "text": [
            "4\n",
            "NeuralNetwork(\n",
            "  (layers): Sequential(\n",
            "    (0): Linear(in_features=4, out_features=16, bias=True)\n",
            "    (1): ReLU()\n",
            "    (2): Linear(in_features=16, out_features=32, bias=True)\n",
            "    (3): ReLU()\n",
            "    (4): Linear(in_features=32, out_features=16, bias=True)\n",
            "    (5): ReLU()\n",
            "    (6): Linear(in_features=16, out_features=1, bias=True)\n",
            "  )\n",
            ")\n"
          ]
        }
      ]
    },
    {
      "cell_type": "markdown",
      "source": [
        "# Training the neural net"
      ],
      "metadata": {
        "id": "izyGW_jtQC5v"
      }
    },
    {
      "cell_type": "code",
      "source": [
        "loss_stats = []\n",
        "\n",
        "print(\"Begin training.\")\n",
        "\n",
        "for e in range(0, EPOCHS):\n",
        "  curr_loss = 0\n",
        "  model.train()\n",
        "  for input, target in train_loader:\n",
        "\n",
        "    input, target = input.to(device), target.to(device)\n",
        "\n",
        "    #reset gradients to 0 per mini-batch\n",
        "    optimizer.zero_grad()\n",
        "\n",
        "    output = model(input.float())\n",
        "    train_loss = loss_function(output, target.float().unsqueeze(1))\n",
        "\n",
        "    # compute the gradient and update the network parameters\n",
        "    train_loss.backward()\n",
        "    optimizer.step()\n",
        "\n",
        "    curr_loss += train_loss.item()\n",
        "\n",
        "  loss_stats.append(curr_loss/len(train_loader))#calculate average loss for each eopch\n",
        "  print(f'Epoch {e+0:03}: | Train Loss: {curr_loss/len(train_loader):.5f}')\n",
        "\n",
        "print('Training process has finished.')"
      ],
      "metadata": {
        "colab": {
          "base_uri": "https://localhost:8080/"
        },
        "id": "fMI9bBt6dDPh",
        "outputId": "35dd8a45-90a8-497d-c016-76d6fe1fc0c7"
      },
      "execution_count": 25,
      "outputs": [
        {
          "output_type": "stream",
          "name": "stdout",
          "text": [
            "Begin training.\n",
            "Epoch 000: | Train Loss: 45321.88625\n",
            "Epoch 001: | Train Loss: 45189.48766\n",
            "Epoch 002: | Train Loss: 44913.76969\n",
            "Epoch 003: | Train Loss: 44162.71203\n",
            "Epoch 004: | Train Loss: 42286.03656\n",
            "Epoch 005: | Train Loss: 38355.98961\n",
            "Epoch 006: | Train Loss: 31420.02328\n",
            "Epoch 007: | Train Loss: 21507.19105\n",
            "Epoch 008: | Train Loss: 10933.49478\n",
            "Epoch 009: | Train Loss: 3818.76454\n",
            "Epoch 010: | Train Loss: 1717.72890\n",
            "Epoch 011: | Train Loss: 1491.53751\n",
            "Epoch 012: | Train Loss: 1404.30174\n",
            "Epoch 013: | Train Loss: 1328.59616\n",
            "Epoch 014: | Train Loss: 1260.09886\n",
            "Epoch 015: | Train Loss: 1198.52856\n",
            "Epoch 016: | Train Loss: 1138.13942\n",
            "Epoch 017: | Train Loss: 1080.57802\n",
            "Epoch 018: | Train Loss: 1032.00737\n",
            "Epoch 019: | Train Loss: 983.61669\n",
            "Epoch 020: | Train Loss: 936.15747\n",
            "Epoch 021: | Train Loss: 894.94928\n",
            "Epoch 022: | Train Loss: 857.35738\n",
            "Epoch 023: | Train Loss: 822.51232\n",
            "Epoch 024: | Train Loss: 790.95770\n",
            "Epoch 025: | Train Loss: 766.93762\n",
            "Epoch 026: | Train Loss: 730.60542\n",
            "Epoch 027: | Train Loss: 709.66185\n",
            "Epoch 028: | Train Loss: 683.25413\n",
            "Epoch 029: | Train Loss: 664.74213\n",
            "Epoch 030: | Train Loss: 642.83881\n",
            "Epoch 031: | Train Loss: 625.22443\n",
            "Epoch 032: | Train Loss: 610.28937\n",
            "Epoch 033: | Train Loss: 596.01120\n",
            "Epoch 034: | Train Loss: 580.57118\n",
            "Epoch 035: | Train Loss: 583.02771\n",
            "Epoch 036: | Train Loss: 563.53233\n",
            "Epoch 037: | Train Loss: 553.01779\n",
            "Epoch 038: | Train Loss: 538.97017\n",
            "Epoch 039: | Train Loss: 530.50162\n",
            "Epoch 040: | Train Loss: 525.72447\n",
            "Epoch 041: | Train Loss: 517.08191\n",
            "Epoch 042: | Train Loss: 510.18972\n",
            "Epoch 043: | Train Loss: 504.45794\n",
            "Epoch 044: | Train Loss: 500.03715\n",
            "Epoch 045: | Train Loss: 496.59131\n",
            "Epoch 046: | Train Loss: 491.77808\n",
            "Epoch 047: | Train Loss: 485.18228\n",
            "Epoch 048: | Train Loss: 483.12499\n",
            "Epoch 049: | Train Loss: 478.51712\n",
            "Epoch 050: | Train Loss: 474.66317\n",
            "Epoch 051: | Train Loss: 470.84683\n",
            "Epoch 052: | Train Loss: 467.23257\n",
            "Epoch 053: | Train Loss: 463.67105\n",
            "Epoch 054: | Train Loss: 459.92188\n",
            "Epoch 055: | Train Loss: 465.17364\n",
            "Epoch 056: | Train Loss: 457.97734\n",
            "Epoch 057: | Train Loss: 451.98964\n",
            "Epoch 058: | Train Loss: 447.74667\n",
            "Epoch 059: | Train Loss: 444.74778\n",
            "Epoch 060: | Train Loss: 443.11453\n",
            "Epoch 061: | Train Loss: 439.25238\n",
            "Epoch 062: | Train Loss: 436.13837\n",
            "Epoch 063: | Train Loss: 432.47121\n",
            "Epoch 064: | Train Loss: 429.30521\n",
            "Epoch 065: | Train Loss: 426.79968\n",
            "Epoch 066: | Train Loss: 426.64403\n",
            "Epoch 067: | Train Loss: 422.86578\n",
            "Epoch 068: | Train Loss: 419.16001\n",
            "Epoch 069: | Train Loss: 421.63697\n",
            "Epoch 070: | Train Loss: 416.09080\n",
            "Epoch 071: | Train Loss: 411.40621\n",
            "Epoch 072: | Train Loss: 409.35409\n",
            "Epoch 073: | Train Loss: 414.73203\n",
            "Epoch 074: | Train Loss: 410.19025\n",
            "Epoch 075: | Train Loss: 403.57056\n",
            "Epoch 076: | Train Loss: 398.80232\n",
            "Epoch 077: | Train Loss: 398.54152\n",
            "Epoch 078: | Train Loss: 403.64752\n",
            "Epoch 079: | Train Loss: 394.83939\n",
            "Epoch 080: | Train Loss: 392.06406\n",
            "Epoch 081: | Train Loss: 389.42631\n",
            "Epoch 082: | Train Loss: 389.53184\n",
            "Epoch 083: | Train Loss: 386.25633\n",
            "Epoch 084: | Train Loss: 386.92946\n",
            "Epoch 085: | Train Loss: 382.13193\n",
            "Epoch 086: | Train Loss: 383.94720\n",
            "Epoch 087: | Train Loss: 385.68405\n",
            "Epoch 088: | Train Loss: 381.06364\n",
            "Epoch 089: | Train Loss: 380.42875\n",
            "Epoch 090: | Train Loss: 376.94523\n",
            "Epoch 091: | Train Loss: 378.21295\n",
            "Epoch 092: | Train Loss: 379.88263\n",
            "Epoch 093: | Train Loss: 376.39895\n",
            "Epoch 094: | Train Loss: 374.92730\n",
            "Epoch 095: | Train Loss: 371.82047\n",
            "Epoch 096: | Train Loss: 373.37274\n",
            "Epoch 097: | Train Loss: 374.89147\n",
            "Epoch 098: | Train Loss: 377.27027\n",
            "Epoch 099: | Train Loss: 374.99382\n",
            "Epoch 100: | Train Loss: 373.52797\n",
            "Epoch 101: | Train Loss: 373.79179\n",
            "Epoch 102: | Train Loss: 368.38472\n",
            "Epoch 103: | Train Loss: 365.57836\n",
            "Epoch 104: | Train Loss: 364.49500\n",
            "Epoch 105: | Train Loss: 361.10776\n",
            "Epoch 106: | Train Loss: 360.43087\n",
            "Epoch 107: | Train Loss: 360.25521\n",
            "Epoch 108: | Train Loss: 362.59690\n",
            "Epoch 109: | Train Loss: 361.91598\n",
            "Epoch 110: | Train Loss: 366.49406\n",
            "Epoch 111: | Train Loss: 365.93390\n",
            "Epoch 112: | Train Loss: 356.08037\n",
            "Epoch 113: | Train Loss: 359.48202\n",
            "Epoch 114: | Train Loss: 362.28447\n",
            "Epoch 115: | Train Loss: 352.77344\n",
            "Epoch 116: | Train Loss: 350.85735\n",
            "Epoch 117: | Train Loss: 352.20368\n",
            "Epoch 118: | Train Loss: 349.36569\n",
            "Epoch 119: | Train Loss: 348.58051\n",
            "Epoch 120: | Train Loss: 348.03699\n",
            "Epoch 121: | Train Loss: 346.10081\n",
            "Epoch 122: | Train Loss: 348.30235\n",
            "Epoch 123: | Train Loss: 346.47575\n",
            "Epoch 124: | Train Loss: 343.46529\n",
            "Epoch 125: | Train Loss: 344.29441\n",
            "Epoch 126: | Train Loss: 342.62250\n",
            "Epoch 127: | Train Loss: 346.29421\n",
            "Epoch 128: | Train Loss: 339.14134\n",
            "Epoch 129: | Train Loss: 333.15355\n",
            "Epoch 130: | Train Loss: 338.22442\n",
            "Epoch 131: | Train Loss: 335.61181\n",
            "Epoch 132: | Train Loss: 331.29074\n",
            "Epoch 133: | Train Loss: 330.57418\n",
            "Epoch 134: | Train Loss: 333.34203\n",
            "Epoch 135: | Train Loss: 327.27770\n",
            "Epoch 136: | Train Loss: 326.41601\n",
            "Epoch 137: | Train Loss: 339.93903\n",
            "Epoch 138: | Train Loss: 325.85807\n",
            "Epoch 139: | Train Loss: 323.76857\n",
            "Epoch 140: | Train Loss: 322.47280\n",
            "Epoch 141: | Train Loss: 321.15126\n",
            "Epoch 142: | Train Loss: 317.57234\n",
            "Epoch 143: | Train Loss: 316.91305\n",
            "Epoch 144: | Train Loss: 313.96344\n",
            "Epoch 145: | Train Loss: 313.99449\n",
            "Epoch 146: | Train Loss: 312.97306\n",
            "Epoch 147: | Train Loss: 310.56259\n",
            "Epoch 148: | Train Loss: 314.59117\n",
            "Epoch 149: | Train Loss: 310.85296\n",
            "Training process has finished.\n"
          ]
        }
      ]
    },
    {
      "cell_type": "code",
      "source": [
        "# plotting training loss\n",
        "train_val_loss_df = pd.DataFrame(loss_stats).reset_index().melt(id_vars=['index']).rename(columns={\"index\":\"epochs\"})\n",
        "plt.figure(figsize=(15,8))\n",
        "sns.lineplot(data=train_val_loss_df, x = \"epochs\", y=\"value\").set_title('Train Loss/Epoch')"
      ],
      "metadata": {
        "colab": {
          "base_uri": "https://localhost:8080/",
          "height": 530
        },
        "id": "qm1pGprwhr0i",
        "outputId": "26bd51e8-97c1-400b-ad0a-ee42fb039b56"
      },
      "execution_count": 26,
      "outputs": [
        {
          "output_type": "execute_result",
          "data": {
            "text/plain": [
              "Text(0.5, 1.0, 'Train Loss/Epoch')"
            ]
          },
          "metadata": {},
          "execution_count": 26
        },
        {
          "output_type": "display_data",
          "data": {
            "text/plain": [
              "<Figure size 1080x576 with 1 Axes>"
            ],
            "image/png": "[encoded data removed]"
          },
          "metadata": {
            "needs_background": "light"
          }
        }
      ]
    },
    {
      "cell_type": "markdown",
      "source": [
        "# Testing the neural net\n",
        "\n",
        "We use mean square error (MSE) as the testing accuracy metric. This will tell us how well the neural network performed in predicting the CPI. "
      ],
      "metadata": {
        "id": "XXSwFHEKQOWN"
      }
    },
    {
      "cell_type": "code",
      "source": [
        "y_pred = []\n",
        "\n",
        "# using test data to get predicted CPI values\n",
        "with torch.no_grad(): #don't want to use backpropogation here\n",
        "    model.eval()\n",
        "    for X_batch, _ in test_loader:\n",
        "        X_batch = X_batch.to(device)\n",
        "        X_batch = X_batch.float()\n",
        "        y_test_pred = model(X_batch).cpu().detach().numpy().reshape(-1)\n",
        "        y_pred.append(y_test_pred)\n",
        "\n",
        "y_pred = [a.squeeze().tolist() for a in y_pred]"
      ],
      "metadata": {
        "id": "DSoGHRY_iW--"
      },
      "execution_count": 27,
      "outputs": []
    },
    {
      "cell_type": "code",
      "source": [
        "# calculcating MSE for accuracy metric\n",
        "mse = mean_squared_error(y_test, y_pred)\n",
        "print(\"MSE =\", mse)"
      ],
      "metadata": {
        "colab": {
          "base_uri": "https://localhost:8080/"
        },
        "id": "G7_P38I_igO_",
        "outputId": "7cb81afa-799b-4e24-f10e-b81494f7353f"
      },
      "execution_count": 28,
      "outputs": [
        {
          "output_type": "stream",
          "name": "stdout",
          "text": [
            "MSE = 297.10388699733295\n"
          ]
        }
      ]
    },
    {
      "cell_type": "markdown",
      "source": [
        "We also plot a comparison between the actual and predicted CPI's for a visual on the neural net's performance."
      ],
      "metadata": {
        "id": "rIW_uQiTQf3x"
      }
    },
    {
      "cell_type": "code",
      "source": [
        "plt.plot(y_test, color = 'blue', label = 'actual') \n",
        "plt.plot(y_pred, color = 'red', label = 'predict') \n",
        "plt.title('Test Results')\n",
        "plt.legend()\n",
        "plt.show()"
      ],
      "metadata": {
        "colab": {
          "base_uri": "https://localhost:8080/",
          "height": 281
        },
        "id": "C7i-Gt2NowAi",
        "outputId": "a090db28-97dd-4e79-c035-c0b426d9ce4b"
      },
      "execution_count": 29,
      "outputs": [
        {
          "output_type": "display_data",
          "data": {
            "text/plain": [
              "<Figure size 432x288 with 1 Axes>"
            ],
            "image/png": "[encoded data removed]"
          },
          "metadata": {
            "needs_background": "light"
          }
        }
      ]
    }
  ]
}